{
 "metadata": {
  "language_info": {
   "codemirror_mode": {
    "name": "ipython",
    "version": 3
   },
   "file_extension": ".py",
   "mimetype": "text/x-python",
   "name": "python",
   "nbconvert_exporter": "python",
   "pygments_lexer": "ipython3",
   "version": "3.8.6-final"
  },
  "orig_nbformat": 2,
  "kernelspec": {
   "name": "python3",
   "display_name": "Python 3",
   "language": "python"
  }
 },
 "nbformat": 4,
 "nbformat_minor": 2,
 "cells": [
  {
   "cell_type": "code",
   "execution_count": 1,
   "metadata": {},
   "outputs": [],
   "source": [
    "from tsfresh.feature_extraction import extract_features\n",
    "from tsfresh.feature_extraction import settings\n",
    "\n",
    "import numpy as np\n",
    "import pandas as pd"
   ]
  },
  {
   "cell_type": "code",
   "execution_count": 2,
   "metadata": {},
   "outputs": [
    {
     "output_type": "execute_result",
     "data": {
      "text/plain": [
       "  id  temperature  pressure\n",
       "0  a            1        -1\n",
       "1  a            2         2\n",
       "2  b            3        -1\n",
       "3  b            1         7"
      ],
      "text/html": "<div>\n<style scoped>\n    .dataframe tbody tr th:only-of-type {\n        vertical-align: middle;\n    }\n\n    .dataframe tbody tr th {\n        vertical-align: top;\n    }\n\n    .dataframe thead th {\n        text-align: right;\n    }\n</style>\n<table border=\"1\" class=\"dataframe\">\n  <thead>\n    <tr style=\"text-align: right;\">\n      <th></th>\n      <th>id</th>\n      <th>temperature</th>\n      <th>pressure</th>\n    </tr>\n  </thead>\n  <tbody>\n    <tr>\n      <th>0</th>\n      <td>a</td>\n      <td>1</td>\n      <td>-1</td>\n    </tr>\n    <tr>\n      <th>1</th>\n      <td>a</td>\n      <td>2</td>\n      <td>2</td>\n    </tr>\n    <tr>\n      <th>2</th>\n      <td>b</td>\n      <td>3</td>\n      <td>-1</td>\n    </tr>\n    <tr>\n      <th>3</th>\n      <td>b</td>\n      <td>1</td>\n      <td>7</td>\n    </tr>\n  </tbody>\n</table>\n</div>"
     },
     "metadata": {},
     "execution_count": 2
    }
   ],
   "source": [
    "df = pd.DataFrame({\"id\": [\"a\", \"a\", \"b\", \"b\"], \"temperature\": [1,2,3,1], \"pressure\": [-1, 2, -1, 7]})\n",
    "df"
   ]
  },
  {
   "cell_type": "code",
   "execution_count": 3,
   "metadata": {},
   "outputs": [
    {
     "output_type": "execute_result",
     "data": {
      "text/plain": [
       "(tsfresh.feature_extraction.settings.ComprehensiveFCParameters,\n",
       " tsfresh.feature_extraction.settings.EfficientFCParameters,\n",
       " tsfresh.feature_extraction.settings.MinimalFCParameters)"
      ]
     },
     "metadata": {},
     "execution_count": 3
    }
   ],
   "source": [
    "settings.ComprehensiveFCParameters, settings.EfficientFCParameters, settings.MinimalFCParameters"
   ]
  },
  {
   "cell_type": "code",
   "execution_count": 4,
   "metadata": {},
   "outputs": [
    {
     "output_type": "execute_result",
     "data": {
      "text/plain": [
       "{'sum_values': None,\n",
       " 'median': None,\n",
       " 'mean': None,\n",
       " 'length': None,\n",
       " 'standard_deviation': None,\n",
       " 'variance': None,\n",
       " 'maximum': None,\n",
       " 'minimum': None}"
      ]
     },
     "metadata": {},
     "execution_count": 4
    }
   ],
   "source": [
    "settings_minimal = settings.MinimalFCParameters() \n",
    "settings_minimal"
   ]
  },
  {
   "cell_type": "code",
   "execution_count": 5,
   "metadata": {},
   "outputs": [
    {
     "output_type": "stream",
     "name": "stderr",
     "text": [
      "Feature Extraction: 100%|██████████| 4/4 [00:02<00:00,  1.84it/s]\n"
     ]
    },
    {
     "output_type": "execute_result",
     "data": {
      "text/plain": [
       "   temperature__sum_values  temperature__median  temperature__mean  \\\n",
       "a                      3.0                  1.5                1.5   \n",
       "b                      4.0                  2.0                2.0   \n",
       "\n",
       "   temperature__length  temperature__standard_deviation  \\\n",
       "a                  2.0                              0.5   \n",
       "b                  2.0                              1.0   \n",
       "\n",
       "   temperature__variance  temperature__maximum  temperature__minimum  \\\n",
       "a                   0.25                   2.0                   1.0   \n",
       "b                   1.00                   3.0                   1.0   \n",
       "\n",
       "   pressure__sum_values  pressure__median  pressure__mean  pressure__length  \\\n",
       "a                   1.0               0.5             0.5               2.0   \n",
       "b                   6.0               3.0             3.0               2.0   \n",
       "\n",
       "   pressure__standard_deviation  pressure__variance  pressure__maximum  \\\n",
       "a                           1.5                2.25                2.0   \n",
       "b                           4.0               16.00                7.0   \n",
       "\n",
       "   pressure__minimum  \n",
       "a               -1.0  \n",
       "b               -1.0  "
      ],
      "text/html": "<div>\n<style scoped>\n    .dataframe tbody tr th:only-of-type {\n        vertical-align: middle;\n    }\n\n    .dataframe tbody tr th {\n        vertical-align: top;\n    }\n\n    .dataframe thead th {\n        text-align: right;\n    }\n</style>\n<table border=\"1\" class=\"dataframe\">\n  <thead>\n    <tr style=\"text-align: right;\">\n      <th></th>\n      <th>temperature__sum_values</th>\n      <th>temperature__median</th>\n      <th>temperature__mean</th>\n      <th>temperature__length</th>\n      <th>temperature__standard_deviation</th>\n      <th>temperature__variance</th>\n      <th>temperature__maximum</th>\n      <th>temperature__minimum</th>\n      <th>pressure__sum_values</th>\n      <th>pressure__median</th>\n      <th>pressure__mean</th>\n      <th>pressure__length</th>\n      <th>pressure__standard_deviation</th>\n      <th>pressure__variance</th>\n      <th>pressure__maximum</th>\n      <th>pressure__minimum</th>\n    </tr>\n  </thead>\n  <tbody>\n    <tr>\n      <th>a</th>\n      <td>3.0</td>\n      <td>1.5</td>\n      <td>1.5</td>\n      <td>2.0</td>\n      <td>0.5</td>\n      <td>0.25</td>\n      <td>2.0</td>\n      <td>1.0</td>\n      <td>1.0</td>\n      <td>0.5</td>\n      <td>0.5</td>\n      <td>2.0</td>\n      <td>1.5</td>\n      <td>2.25</td>\n      <td>2.0</td>\n      <td>-1.0</td>\n    </tr>\n    <tr>\n      <th>b</th>\n      <td>4.0</td>\n      <td>2.0</td>\n      <td>2.0</td>\n      <td>2.0</td>\n      <td>1.0</td>\n      <td>1.00</td>\n      <td>3.0</td>\n      <td>1.0</td>\n      <td>6.0</td>\n      <td>3.0</td>\n      <td>3.0</td>\n      <td>2.0</td>\n      <td>4.0</td>\n      <td>16.00</td>\n      <td>7.0</td>\n      <td>-1.0</td>\n    </tr>\n  </tbody>\n</table>\n</div>"
     },
     "metadata": {},
     "execution_count": 5
    }
   ],
   "source": [
    "X_tsfresh = extract_features(df, column_id=\"id\", default_fc_parameters=settings_minimal)\n",
    "X_tsfresh.head()"
   ]
  },
  {
   "cell_type": "code",
   "execution_count": null,
   "metadata": {},
   "outputs": [],
   "source": []
  }
 ]
}