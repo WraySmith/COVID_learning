{
 "metadata": {
  "language_info": {
   "codemirror_mode": {
    "name": "ipython",
    "version": 3
   },
   "file_extension": ".py",
   "mimetype": "text/x-python",
   "name": "python",
   "nbconvert_exporter": "python",
   "pygments_lexer": "ipython3",
   "version": "3.8.6-final"
  },
  "orig_nbformat": 2,
  "kernelspec": {
   "name": "python3",
   "display_name": "Python 3.8.6 64-bit ('streaml': conda)",
   "metadata": {
    "interpreter": {
     "hash": "543d28fad28bb6de62559c996a5e12b93511c5b2dd5cf55c271fc2319a67035d"
    }
   }
  }
 },
 "nbformat": 4,
 "nbformat_minor": 2,
 "cells": [
  {
   "cell_type": "code",
   "execution_count": 75,
   "metadata": {},
   "outputs": [],
   "source": [
    "import pandas as pd\n",
    "import numpy as np\n",
    "import matplotlib.pyplot as plt\n",
    "import tsfresh\n",
    "\n",
    "from sklearn import linear_model, model_selection, metrics\n",
    "from sklearn.ensemble import RandomForestRegressor, GradientBoostingRegressor\n",
    "from sklearn.feature_selection import RFECV\n",
    "\n",
    "\n",
    "%matplotlib inline"
   ]
  },
  {
   "cell_type": "code",
   "execution_count": 76,
   "metadata": {},
   "outputs": [],
   "source": [
    "# read dataframe from covid_explore.ipynb output\n",
    "covid = pd.read_csv(\"./data/covid/covid19_20210104_mod.csv\", index_col='date', parse_dates=True)\n",
    "# select columns of interest and remove all dates up to July 1\n",
    "covid_mod = covid.loc['2020-07-01':,('days_elapse', 'new_count_update')].copy()\n",
    "#covid_mod.reset_index(inplace=True, drop=True)\n",
    "covid_mod.columns = ['days_elapse', 'daily_case']\n",
    "# add a 3, 5, 7 and 14-day rolling mean\n",
    "# also add a 14-day rolling std-dev in the event a 14-day standardization is used\n",
    "covid_mod['daily_case_3mean'] = covid_mod['daily_case'].rolling(window = 3).mean()\n",
    "covid_mod['daily_case_5mean'] = covid_mod['daily_case'].rolling(window = 5).mean()\n",
    "covid_mod['daily_case_7mean'] = covid_mod['daily_case'].rolling(window = 7).mean()\n",
    "covid_mod['daily_case_14mean'] = covid_mod['daily_case'].rolling(window = 14).mean()"
   ]
  },
  {
   "cell_type": "code",
   "execution_count": 82,
   "metadata": {},
   "outputs": [],
   "source": [
    "covid_7day = pd.Series(covid_mod['daily_case_7mean'], index = covid_mod.index).dropna()"
   ]
  },
  {
   "cell_type": "code",
   "execution_count": 84,
   "metadata": {},
   "outputs": [
    {
     "output_type": "stream",
     "name": "stderr",
     "text": [
      "Rolling: 100%|██████████| 30/30 [00:02<00:00, 13.39it/s]\n",
      "Rolling: 100%|██████████| 30/30 [00:02<00:00, 13.33it/s]\n"
     ]
    }
   ],
   "source": [
    "rolled1 = tsfresh.utilities.dataframe_functions.make_forecasting_frame(covid_7day, kind=1, max_timeshift=14, rolling_direction=1)\n",
    "rolled2 = tsfresh.utilities.dataframe_functions.make_forecasting_frame(covid_7day, kind=1, max_timeshift=7, rolling_direction=1)"
   ]
  },
  {
   "cell_type": "code",
   "execution_count": 88,
   "metadata": {},
   "outputs": [],
   "source": [
    "rolled1_mod = rolled1[0].groupby('id').filter(lambda x: len(x) >= 14)\n",
    "rolled2_mod = rolled2[0].groupby('id').filter(lambda x: len(x) >= 7)"
   ]
  },
  {
   "cell_type": "code",
   "execution_count": 89,
   "metadata": {},
   "outputs": [
    {
     "output_type": "stream",
     "name": "stderr",
     "text": [
      "Feature Extraction: 100%|██████████| 28/28 [00:03<00:00,  8.02it/s]\n",
      "Feature Extraction: 100%|██████████| 29/29 [00:03<00:00,  8.18it/s]\n"
     ]
    }
   ],
   "source": [
    "extracted_features1 = tsfresh.extract_features(rolled1_mod, column_id = 'id', column_sort = 'time', column_value = 'value')\n",
    "extracted_features2 = tsfresh.extract_features(rolled2_mod, column_id = 'id', column_sort = 'time', column_value = 'value')"
   ]
  },
  {
   "cell_type": "code",
   "execution_count": 90,
   "metadata": {},
   "outputs": [],
   "source": [
    "extracted_features1 = extracted_features1.droplevel(0).add_suffix('_14')\n",
    "extracted_features2 = extracted_features2.droplevel(0).add_suffix('_7')"
   ]
  },
  {
   "cell_type": "code",
   "execution_count": 91,
   "metadata": {},
   "outputs": [],
   "source": [
    "extracted_features_combo = pd.concat([extracted_features1, extracted_features2], axis = 1, join='inner')"
   ]
  },
  {
   "cell_type": "code",
   "execution_count": 93,
   "metadata": {},
   "outputs": [
    {
     "output_type": "execute_result",
     "data": {
      "text/plain": [
       "            value__variance_larger_than_standard_deviation_14  \\\n",
       "2020-07-21                                                1.0   \n",
       "2020-07-22                                                1.0   \n",
       "2020-07-23                                                1.0   \n",
       "2020-07-24                                                1.0   \n",
       "2020-07-25                                                1.0   \n",
       "\n",
       "            value__has_duplicate_max_14  value__has_duplicate_min_14  \\\n",
       "2020-07-21                          0.0                          0.0   \n",
       "2020-07-22                          0.0                          0.0   \n",
       "2020-07-23                          0.0                          0.0   \n",
       "2020-07-24                          0.0                          0.0   \n",
       "2020-07-25                          0.0                          0.0   \n",
       "\n",
       "            value__has_duplicate_14  value__sum_values_14  \\\n",
       "2020-07-21                      0.0            258.571429   \n",
       "2020-07-22                      0.0            276.571429   \n",
       "2020-07-23                      0.0            295.571429   \n",
       "2020-07-24                      0.0            314.714286   \n",
       "2020-07-25                      0.0            331.142857   \n",
       "\n",
       "            value__abs_energy_14  value__mean_abs_change_14  \\\n",
       "2020-07-21           5071.551020                   1.219780   \n",
       "2020-07-22           5776.122449                   1.318681   \n",
       "2020-07-23           6571.408163                   1.373626   \n",
       "2020-07-24           7419.163265                   1.274725   \n",
       "2020-07-25           8186.612245                   1.175824   \n",
       "\n",
       "            value__mean_change_14  value__mean_second_derivative_central_14  \\\n",
       "2020-07-21               1.219780                                  0.035714   \n",
       "2020-07-22               1.318681                                  0.041667   \n",
       "2020-07-23               1.373626                                 -0.029762   \n",
       "2020-07-24               1.274725                                 -0.005952   \n",
       "2020-07-25               1.153846                                 -0.065476   \n",
       "\n",
       "            value__median_14  ...  value__fourier_entropy__bins_2_7  \\\n",
       "2020-07-21         19.642857  ...                          0.562335   \n",
       "2020-07-22         19.928571  ...                          0.562335   \n",
       "2020-07-23         20.214286  ...                          0.562335   \n",
       "2020-07-24         20.500000  ...                          0.562335   \n",
       "2020-07-25         21.714286  ...                          0.562335   \n",
       "\n",
       "            value__fourier_entropy__bins_3_7  \\\n",
       "2020-07-21                          0.562335   \n",
       "2020-07-22                          0.562335   \n",
       "2020-07-23                          0.562335   \n",
       "2020-07-24                          0.562335   \n",
       "2020-07-25                          0.562335   \n",
       "\n",
       "            value__fourier_entropy__bins_5_7  \\\n",
       "2020-07-21                          0.562335   \n",
       "2020-07-22                          0.562335   \n",
       "2020-07-23                          0.562335   \n",
       "2020-07-24                          0.562335   \n",
       "2020-07-25                          1.039721   \n",
       "\n",
       "            value__fourier_entropy__bins_10_7  \\\n",
       "2020-07-21                           1.039721   \n",
       "2020-07-22                           0.562335   \n",
       "2020-07-23                           1.039721   \n",
       "2020-07-24                           1.039721   \n",
       "2020-07-25                           1.039721   \n",
       "\n",
       "            value__fourier_entropy__bins_100_7  \\\n",
       "2020-07-21                            1.039721   \n",
       "2020-07-22                            1.386294   \n",
       "2020-07-23                            1.386294   \n",
       "2020-07-24                            1.386294   \n",
       "2020-07-25                            1.386294   \n",
       "\n",
       "            value__permutation_entropy__dimension_3__tau_1_7  \\\n",
       "2020-07-21                                         -0.000000   \n",
       "2020-07-22                                         -0.000000   \n",
       "2020-07-23                                         -0.000000   \n",
       "2020-07-24                                         -0.000000   \n",
       "2020-07-25                                          0.500402   \n",
       "\n",
       "            value__permutation_entropy__dimension_4__tau_1_7  \\\n",
       "2020-07-21                                         -0.000000   \n",
       "2020-07-22                                         -0.000000   \n",
       "2020-07-23                                         -0.000000   \n",
       "2020-07-24                                         -0.000000   \n",
       "2020-07-25                                          0.562335   \n",
       "\n",
       "            value__permutation_entropy__dimension_5__tau_1_7  \\\n",
       "2020-07-21                                         -0.000000   \n",
       "2020-07-22                                         -0.000000   \n",
       "2020-07-23                                         -0.000000   \n",
       "2020-07-24                                         -0.000000   \n",
       "2020-07-25                                          0.636514   \n",
       "\n",
       "            value__permutation_entropy__dimension_6__tau_1_7  \\\n",
       "2020-07-21                                         -0.000000   \n",
       "2020-07-22                                         -0.000000   \n",
       "2020-07-23                                         -0.000000   \n",
       "2020-07-24                                         -0.000000   \n",
       "2020-07-25                                          0.693147   \n",
       "\n",
       "            value__permutation_entropy__dimension_7__tau_1_7  \n",
       "2020-07-21                                              -0.0  \n",
       "2020-07-22                                              -0.0  \n",
       "2020-07-23                                              -0.0  \n",
       "2020-07-24                                              -0.0  \n",
       "2020-07-25                                              -0.0  \n",
       "\n",
       "[5 rows x 1558 columns]"
      ],
      "text/html": "<div>\n<style scoped>\n    .dataframe tbody tr th:only-of-type {\n        vertical-align: middle;\n    }\n\n    .dataframe tbody tr th {\n        vertical-align: top;\n    }\n\n    .dataframe thead th {\n        text-align: right;\n    }\n</style>\n<table border=\"1\" class=\"dataframe\">\n  <thead>\n    <tr style=\"text-align: right;\">\n      <th></th>\n      <th>value__variance_larger_than_standard_deviation_14</th>\n      <th>value__has_duplicate_max_14</th>\n      <th>value__has_duplicate_min_14</th>\n      <th>value__has_duplicate_14</th>\n      <th>value__sum_values_14</th>\n      <th>value__abs_energy_14</th>\n      <th>value__mean_abs_change_14</th>\n      <th>value__mean_change_14</th>\n      <th>value__mean_second_derivative_central_14</th>\n      <th>value__median_14</th>\n      <th>...</th>\n      <th>value__fourier_entropy__bins_2_7</th>\n      <th>value__fourier_entropy__bins_3_7</th>\n      <th>value__fourier_entropy__bins_5_7</th>\n      <th>value__fourier_entropy__bins_10_7</th>\n      <th>value__fourier_entropy__bins_100_7</th>\n      <th>value__permutation_entropy__dimension_3__tau_1_7</th>\n      <th>value__permutation_entropy__dimension_4__tau_1_7</th>\n      <th>value__permutation_entropy__dimension_5__tau_1_7</th>\n      <th>value__permutation_entropy__dimension_6__tau_1_7</th>\n      <th>value__permutation_entropy__dimension_7__tau_1_7</th>\n    </tr>\n  </thead>\n  <tbody>\n    <tr>\n      <th>2020-07-21</th>\n      <td>1.0</td>\n      <td>0.0</td>\n      <td>0.0</td>\n      <td>0.0</td>\n      <td>258.571429</td>\n      <td>5071.551020</td>\n      <td>1.219780</td>\n      <td>1.219780</td>\n      <td>0.035714</td>\n      <td>19.642857</td>\n      <td>...</td>\n      <td>0.562335</td>\n      <td>0.562335</td>\n      <td>0.562335</td>\n      <td>1.039721</td>\n      <td>1.039721</td>\n      <td>-0.000000</td>\n      <td>-0.000000</td>\n      <td>-0.000000</td>\n      <td>-0.000000</td>\n      <td>-0.0</td>\n    </tr>\n    <tr>\n      <th>2020-07-22</th>\n      <td>1.0</td>\n      <td>0.0</td>\n      <td>0.0</td>\n      <td>0.0</td>\n      <td>276.571429</td>\n      <td>5776.122449</td>\n      <td>1.318681</td>\n      <td>1.318681</td>\n      <td>0.041667</td>\n      <td>19.928571</td>\n      <td>...</td>\n      <td>0.562335</td>\n      <td>0.562335</td>\n      <td>0.562335</td>\n      <td>0.562335</td>\n      <td>1.386294</td>\n      <td>-0.000000</td>\n      <td>-0.000000</td>\n      <td>-0.000000</td>\n      <td>-0.000000</td>\n      <td>-0.0</td>\n    </tr>\n    <tr>\n      <th>2020-07-23</th>\n      <td>1.0</td>\n      <td>0.0</td>\n      <td>0.0</td>\n      <td>0.0</td>\n      <td>295.571429</td>\n      <td>6571.408163</td>\n      <td>1.373626</td>\n      <td>1.373626</td>\n      <td>-0.029762</td>\n      <td>20.214286</td>\n      <td>...</td>\n      <td>0.562335</td>\n      <td>0.562335</td>\n      <td>0.562335</td>\n      <td>1.039721</td>\n      <td>1.386294</td>\n      <td>-0.000000</td>\n      <td>-0.000000</td>\n      <td>-0.000000</td>\n      <td>-0.000000</td>\n      <td>-0.0</td>\n    </tr>\n    <tr>\n      <th>2020-07-24</th>\n      <td>1.0</td>\n      <td>0.0</td>\n      <td>0.0</td>\n      <td>0.0</td>\n      <td>314.714286</td>\n      <td>7419.163265</td>\n      <td>1.274725</td>\n      <td>1.274725</td>\n      <td>-0.005952</td>\n      <td>20.500000</td>\n      <td>...</td>\n      <td>0.562335</td>\n      <td>0.562335</td>\n      <td>0.562335</td>\n      <td>1.039721</td>\n      <td>1.386294</td>\n      <td>-0.000000</td>\n      <td>-0.000000</td>\n      <td>-0.000000</td>\n      <td>-0.000000</td>\n      <td>-0.0</td>\n    </tr>\n    <tr>\n      <th>2020-07-25</th>\n      <td>1.0</td>\n      <td>0.0</td>\n      <td>0.0</td>\n      <td>0.0</td>\n      <td>331.142857</td>\n      <td>8186.612245</td>\n      <td>1.175824</td>\n      <td>1.153846</td>\n      <td>-0.065476</td>\n      <td>21.714286</td>\n      <td>...</td>\n      <td>0.562335</td>\n      <td>0.562335</td>\n      <td>1.039721</td>\n      <td>1.039721</td>\n      <td>1.386294</td>\n      <td>0.500402</td>\n      <td>0.562335</td>\n      <td>0.636514</td>\n      <td>0.693147</td>\n      <td>-0.0</td>\n    </tr>\n  </tbody>\n</table>\n<p>5 rows × 1558 columns</p>\n</div>"
     },
     "metadata": {},
     "execution_count": 93
    }
   ],
   "source": [
    "extracted_features_combo.head()"
   ]
  },
  {
   "cell_type": "code",
   "execution_count": 94,
   "metadata": {},
   "outputs": [],
   "source": [
    "from tsfresh.utilities.dataframe_functions import impute"
   ]
  },
  {
   "cell_type": "code",
   "execution_count": 95,
   "metadata": {},
   "outputs": [
    {
     "output_type": "execute_result",
     "data": {
      "text/plain": [
       "            value__variance_larger_than_standard_deviation_14  \\\n",
       "2020-07-21                                                1.0   \n",
       "2020-07-22                                                1.0   \n",
       "2020-07-23                                                1.0   \n",
       "2020-07-24                                                1.0   \n",
       "2020-07-25                                                1.0   \n",
       "...                                                       ...   \n",
       "2020-12-27                                                1.0   \n",
       "2020-12-28                                                1.0   \n",
       "2020-12-29                                                1.0   \n",
       "2020-12-30                                                1.0   \n",
       "2020-12-31                                                1.0   \n",
       "\n",
       "            value__has_duplicate_max_14  value__has_duplicate_min_14  \\\n",
       "2020-07-21                          0.0                          0.0   \n",
       "2020-07-22                          0.0                          0.0   \n",
       "2020-07-23                          0.0                          0.0   \n",
       "2020-07-24                          0.0                          0.0   \n",
       "2020-07-25                          0.0                          0.0   \n",
       "...                                 ...                          ...   \n",
       "2020-12-27                          0.0                          0.0   \n",
       "2020-12-28                          0.0                          0.0   \n",
       "2020-12-29                          0.0                          0.0   \n",
       "2020-12-30                          0.0                          0.0   \n",
       "2020-12-31                          0.0                          0.0   \n",
       "\n",
       "            value__has_duplicate_14  value__sum_values_14  \\\n",
       "2020-07-21                      0.0            258.571429   \n",
       "2020-07-22                      0.0            276.571429   \n",
       "2020-07-23                      0.0            295.571429   \n",
       "2020-07-24                      0.0            314.714286   \n",
       "2020-07-25                      0.0            331.142857   \n",
       "...                             ...                   ...   \n",
       "2020-12-27                      0.0           8625.142857   \n",
       "2020-12-28                      0.0           8450.142857   \n",
       "2020-12-29                      0.0           8246.571429   \n",
       "2020-12-30                      0.0           8040.857143   \n",
       "2020-12-31                      0.0           7827.571429   \n",
       "\n",
       "            value__abs_energy_14  value__mean_abs_change_14  \\\n",
       "2020-07-21          5.071551e+03                   1.219780   \n",
       "2020-07-22          5.776122e+03                   1.318681   \n",
       "2020-07-23          6.571408e+03                   1.373626   \n",
       "2020-07-24          7.419163e+03                   1.274725   \n",
       "2020-07-25          8.186612e+03                   1.175824   \n",
       "...                          ...                        ...   \n",
       "2020-12-27          5.365544e+06                  15.703297   \n",
       "2020-12-28          5.162219e+06                  15.153846   \n",
       "2020-12-29          4.925001e+06                  15.615385   \n",
       "2020-12-30          4.688429e+06                  16.054945   \n",
       "2020-12-31          4.443486e+06                  15.857143   \n",
       "\n",
       "            value__mean_change_14  value__mean_second_derivative_central_14  \\\n",
       "2020-07-21               1.219780                                  0.035714   \n",
       "2020-07-22               1.318681                                  0.041667   \n",
       "2020-07-23               1.373626                                 -0.029762   \n",
       "2020-07-24               1.274725                                 -0.005952   \n",
       "2020-07-25               1.153846                                 -0.065476   \n",
       "...                           ...                                       ...   \n",
       "2020-12-27             -12.780220                                 -1.886905   \n",
       "2020-12-28             -14.692308                                 -0.095238   \n",
       "2020-12-29             -15.153846                                 -0.648810   \n",
       "2020-12-30             -16.054945                                 -0.065476   \n",
       "2020-12-31             -15.857143                                  0.482143   \n",
       "\n",
       "            value__median_14  ...  value__fourier_entropy__bins_2_7  \\\n",
       "2020-07-21         19.642857  ...                          0.562335   \n",
       "2020-07-22         19.928571  ...                          0.562335   \n",
       "2020-07-23         20.214286  ...                          0.562335   \n",
       "2020-07-24         20.500000  ...                          0.562335   \n",
       "2020-07-25         21.714286  ...                          0.562335   \n",
       "...                      ...  ...                               ...   \n",
       "2020-12-27        636.500000  ...                          0.562335   \n",
       "2020-12-28        605.571429  ...                          0.562335   \n",
       "2020-12-29        583.642857  ...                          0.562335   \n",
       "2020-12-30        569.357143  ...                          0.562335   \n",
       "2020-12-31        554.071429  ...                          0.562335   \n",
       "\n",
       "            value__fourier_entropy__bins_3_7  \\\n",
       "2020-07-21                          0.562335   \n",
       "2020-07-22                          0.562335   \n",
       "2020-07-23                          0.562335   \n",
       "2020-07-24                          0.562335   \n",
       "2020-07-25                          0.562335   \n",
       "...                                      ...   \n",
       "2020-12-27                          0.562335   \n",
       "2020-12-28                          0.562335   \n",
       "2020-12-29                          0.562335   \n",
       "2020-12-30                          0.562335   \n",
       "2020-12-31                          1.039721   \n",
       "\n",
       "            value__fourier_entropy__bins_5_7  \\\n",
       "2020-07-21                          0.562335   \n",
       "2020-07-22                          0.562335   \n",
       "2020-07-23                          0.562335   \n",
       "2020-07-24                          0.562335   \n",
       "2020-07-25                          1.039721   \n",
       "...                                      ...   \n",
       "2020-12-27                          0.562335   \n",
       "2020-12-28                          0.562335   \n",
       "2020-12-29                          0.562335   \n",
       "2020-12-30                          1.039721   \n",
       "2020-12-31                          1.039721   \n",
       "\n",
       "            value__fourier_entropy__bins_10_7  \\\n",
       "2020-07-21                           1.039721   \n",
       "2020-07-22                           0.562335   \n",
       "2020-07-23                           1.039721   \n",
       "2020-07-24                           1.039721   \n",
       "2020-07-25                           1.039721   \n",
       "...                                       ...   \n",
       "2020-12-27                           1.039721   \n",
       "2020-12-28                           0.562335   \n",
       "2020-12-29                           1.039721   \n",
       "2020-12-30                           1.039721   \n",
       "2020-12-31                           1.039721   \n",
       "\n",
       "            value__fourier_entropy__bins_100_7  \\\n",
       "2020-07-21                            1.039721   \n",
       "2020-07-22                            1.386294   \n",
       "2020-07-23                            1.386294   \n",
       "2020-07-24                            1.386294   \n",
       "2020-07-25                            1.386294   \n",
       "...                                        ...   \n",
       "2020-12-27                            1.039721   \n",
       "2020-12-28                            1.386294   \n",
       "2020-12-29                            1.386294   \n",
       "2020-12-30                            1.386294   \n",
       "2020-12-31                            1.039721   \n",
       "\n",
       "            value__permutation_entropy__dimension_3__tau_1_7  \\\n",
       "2020-07-21                                         -0.000000   \n",
       "2020-07-22                                         -0.000000   \n",
       "2020-07-23                                         -0.000000   \n",
       "2020-07-24                                         -0.000000   \n",
       "2020-07-25                                          0.500402   \n",
       "...                                                      ...   \n",
       "2020-12-27                                         -0.000000   \n",
       "2020-12-28                                         -0.000000   \n",
       "2020-12-29                                         -0.000000   \n",
       "2020-12-30                                         -0.000000   \n",
       "2020-12-31                                         -0.000000   \n",
       "\n",
       "            value__permutation_entropy__dimension_4__tau_1_7  \\\n",
       "2020-07-21                                         -0.000000   \n",
       "2020-07-22                                         -0.000000   \n",
       "2020-07-23                                         -0.000000   \n",
       "2020-07-24                                         -0.000000   \n",
       "2020-07-25                                          0.562335   \n",
       "...                                                      ...   \n",
       "2020-12-27                                         -0.000000   \n",
       "2020-12-28                                         -0.000000   \n",
       "2020-12-29                                         -0.000000   \n",
       "2020-12-30                                         -0.000000   \n",
       "2020-12-31                                         -0.000000   \n",
       "\n",
       "            value__permutation_entropy__dimension_5__tau_1_7  \\\n",
       "2020-07-21                                         -0.000000   \n",
       "2020-07-22                                         -0.000000   \n",
       "2020-07-23                                         -0.000000   \n",
       "2020-07-24                                         -0.000000   \n",
       "2020-07-25                                          0.636514   \n",
       "...                                                      ...   \n",
       "2020-12-27                                         -0.000000   \n",
       "2020-12-28                                         -0.000000   \n",
       "2020-12-29                                         -0.000000   \n",
       "2020-12-30                                         -0.000000   \n",
       "2020-12-31                                         -0.000000   \n",
       "\n",
       "            value__permutation_entropy__dimension_6__tau_1_7  \\\n",
       "2020-07-21                                         -0.000000   \n",
       "2020-07-22                                         -0.000000   \n",
       "2020-07-23                                         -0.000000   \n",
       "2020-07-24                                         -0.000000   \n",
       "2020-07-25                                          0.693147   \n",
       "...                                                      ...   \n",
       "2020-12-27                                         -0.000000   \n",
       "2020-12-28                                         -0.000000   \n",
       "2020-12-29                                         -0.000000   \n",
       "2020-12-30                                         -0.000000   \n",
       "2020-12-31                                         -0.000000   \n",
       "\n",
       "            value__permutation_entropy__dimension_7__tau_1_7  \n",
       "2020-07-21                                              -0.0  \n",
       "2020-07-22                                              -0.0  \n",
       "2020-07-23                                              -0.0  \n",
       "2020-07-24                                              -0.0  \n",
       "2020-07-25                                              -0.0  \n",
       "...                                                      ...  \n",
       "2020-12-27                                              -0.0  \n",
       "2020-12-28                                              -0.0  \n",
       "2020-12-29                                              -0.0  \n",
       "2020-12-30                                              -0.0  \n",
       "2020-12-31                                              -0.0  \n",
       "\n",
       "[164 rows x 1558 columns]"
      ],
      "text/html": "<div>\n<style scoped>\n    .dataframe tbody tr th:only-of-type {\n        vertical-align: middle;\n    }\n\n    .dataframe tbody tr th {\n        vertical-align: top;\n    }\n\n    .dataframe thead th {\n        text-align: right;\n    }\n</style>\n<table border=\"1\" class=\"dataframe\">\n  <thead>\n    <tr style=\"text-align: right;\">\n      <th></th>\n      <th>value__variance_larger_than_standard_deviation_14</th>\n      <th>value__has_duplicate_max_14</th>\n      <th>value__has_duplicate_min_14</th>\n      <th>value__has_duplicate_14</th>\n      <th>value__sum_values_14</th>\n      <th>value__abs_energy_14</th>\n      <th>value__mean_abs_change_14</th>\n      <th>value__mean_change_14</th>\n      <th>value__mean_second_derivative_central_14</th>\n      <th>value__median_14</th>\n      <th>...</th>\n      <th>value__fourier_entropy__bins_2_7</th>\n      <th>value__fourier_entropy__bins_3_7</th>\n      <th>value__fourier_entropy__bins_5_7</th>\n      <th>value__fourier_entropy__bins_10_7</th>\n      <th>value__fourier_entropy__bins_100_7</th>\n      <th>value__permutation_entropy__dimension_3__tau_1_7</th>\n      <th>value__permutation_entropy__dimension_4__tau_1_7</th>\n      <th>value__permutation_entropy__dimension_5__tau_1_7</th>\n      <th>value__permutation_entropy__dimension_6__tau_1_7</th>\n      <th>value__permutation_entropy__dimension_7__tau_1_7</th>\n    </tr>\n  </thead>\n  <tbody>\n    <tr>\n      <th>2020-07-21</th>\n      <td>1.0</td>\n      <td>0.0</td>\n      <td>0.0</td>\n      <td>0.0</td>\n      <td>258.571429</td>\n      <td>5.071551e+03</td>\n      <td>1.219780</td>\n      <td>1.219780</td>\n      <td>0.035714</td>\n      <td>19.642857</td>\n      <td>...</td>\n      <td>0.562335</td>\n      <td>0.562335</td>\n      <td>0.562335</td>\n      <td>1.039721</td>\n      <td>1.039721</td>\n      <td>-0.000000</td>\n      <td>-0.000000</td>\n      <td>-0.000000</td>\n      <td>-0.000000</td>\n      <td>-0.0</td>\n    </tr>\n    <tr>\n      <th>2020-07-22</th>\n      <td>1.0</td>\n      <td>0.0</td>\n      <td>0.0</td>\n      <td>0.0</td>\n      <td>276.571429</td>\n      <td>5.776122e+03</td>\n      <td>1.318681</td>\n      <td>1.318681</td>\n      <td>0.041667</td>\n      <td>19.928571</td>\n      <td>...</td>\n      <td>0.562335</td>\n      <td>0.562335</td>\n      <td>0.562335</td>\n      <td>0.562335</td>\n      <td>1.386294</td>\n      <td>-0.000000</td>\n      <td>-0.000000</td>\n      <td>-0.000000</td>\n      <td>-0.000000</td>\n      <td>-0.0</td>\n    </tr>\n    <tr>\n      <th>2020-07-23</th>\n      <td>1.0</td>\n      <td>0.0</td>\n      <td>0.0</td>\n      <td>0.0</td>\n      <td>295.571429</td>\n      <td>6.571408e+03</td>\n      <td>1.373626</td>\n      <td>1.373626</td>\n      <td>-0.029762</td>\n      <td>20.214286</td>\n      <td>...</td>\n      <td>0.562335</td>\n      <td>0.562335</td>\n      <td>0.562335</td>\n      <td>1.039721</td>\n      <td>1.386294</td>\n      <td>-0.000000</td>\n      <td>-0.000000</td>\n      <td>-0.000000</td>\n      <td>-0.000000</td>\n      <td>-0.0</td>\n    </tr>\n    <tr>\n      <th>2020-07-24</th>\n      <td>1.0</td>\n      <td>0.0</td>\n      <td>0.0</td>\n      <td>0.0</td>\n      <td>314.714286</td>\n      <td>7.419163e+03</td>\n      <td>1.274725</td>\n      <td>1.274725</td>\n      <td>-0.005952</td>\n      <td>20.500000</td>\n      <td>...</td>\n      <td>0.562335</td>\n      <td>0.562335</td>\n      <td>0.562335</td>\n      <td>1.039721</td>\n      <td>1.386294</td>\n      <td>-0.000000</td>\n      <td>-0.000000</td>\n      <td>-0.000000</td>\n      <td>-0.000000</td>\n      <td>-0.0</td>\n    </tr>\n    <tr>\n      <th>2020-07-25</th>\n      <td>1.0</td>\n      <td>0.0</td>\n      <td>0.0</td>\n      <td>0.0</td>\n      <td>331.142857</td>\n      <td>8.186612e+03</td>\n      <td>1.175824</td>\n      <td>1.153846</td>\n      <td>-0.065476</td>\n      <td>21.714286</td>\n      <td>...</td>\n      <td>0.562335</td>\n      <td>0.562335</td>\n      <td>1.039721</td>\n      <td>1.039721</td>\n      <td>1.386294</td>\n      <td>0.500402</td>\n      <td>0.562335</td>\n      <td>0.636514</td>\n      <td>0.693147</td>\n      <td>-0.0</td>\n    </tr>\n    <tr>\n      <th>...</th>\n      <td>...</td>\n      <td>...</td>\n      <td>...</td>\n      <td>...</td>\n      <td>...</td>\n      <td>...</td>\n      <td>...</td>\n      <td>...</td>\n      <td>...</td>\n      <td>...</td>\n      <td>...</td>\n      <td>...</td>\n      <td>...</td>\n      <td>...</td>\n      <td>...</td>\n      <td>...</td>\n      <td>...</td>\n      <td>...</td>\n      <td>...</td>\n      <td>...</td>\n      <td>...</td>\n    </tr>\n    <tr>\n      <th>2020-12-27</th>\n      <td>1.0</td>\n      <td>0.0</td>\n      <td>0.0</td>\n      <td>0.0</td>\n      <td>8625.142857</td>\n      <td>5.365544e+06</td>\n      <td>15.703297</td>\n      <td>-12.780220</td>\n      <td>-1.886905</td>\n      <td>636.500000</td>\n      <td>...</td>\n      <td>0.562335</td>\n      <td>0.562335</td>\n      <td>0.562335</td>\n      <td>1.039721</td>\n      <td>1.039721</td>\n      <td>-0.000000</td>\n      <td>-0.000000</td>\n      <td>-0.000000</td>\n      <td>-0.000000</td>\n      <td>-0.0</td>\n    </tr>\n    <tr>\n      <th>2020-12-28</th>\n      <td>1.0</td>\n      <td>0.0</td>\n      <td>0.0</td>\n      <td>0.0</td>\n      <td>8450.142857</td>\n      <td>5.162219e+06</td>\n      <td>15.153846</td>\n      <td>-14.692308</td>\n      <td>-0.095238</td>\n      <td>605.571429</td>\n      <td>...</td>\n      <td>0.562335</td>\n      <td>0.562335</td>\n      <td>0.562335</td>\n      <td>0.562335</td>\n      <td>1.386294</td>\n      <td>-0.000000</td>\n      <td>-0.000000</td>\n      <td>-0.000000</td>\n      <td>-0.000000</td>\n      <td>-0.0</td>\n    </tr>\n    <tr>\n      <th>2020-12-29</th>\n      <td>1.0</td>\n      <td>0.0</td>\n      <td>0.0</td>\n      <td>0.0</td>\n      <td>8246.571429</td>\n      <td>4.925001e+06</td>\n      <td>15.615385</td>\n      <td>-15.153846</td>\n      <td>-0.648810</td>\n      <td>583.642857</td>\n      <td>...</td>\n      <td>0.562335</td>\n      <td>0.562335</td>\n      <td>0.562335</td>\n      <td>1.039721</td>\n      <td>1.386294</td>\n      <td>-0.000000</td>\n      <td>-0.000000</td>\n      <td>-0.000000</td>\n      <td>-0.000000</td>\n      <td>-0.0</td>\n    </tr>\n    <tr>\n      <th>2020-12-30</th>\n      <td>1.0</td>\n      <td>0.0</td>\n      <td>0.0</td>\n      <td>0.0</td>\n      <td>8040.857143</td>\n      <td>4.688429e+06</td>\n      <td>16.054945</td>\n      <td>-16.054945</td>\n      <td>-0.065476</td>\n      <td>569.357143</td>\n      <td>...</td>\n      <td>0.562335</td>\n      <td>0.562335</td>\n      <td>1.039721</td>\n      <td>1.039721</td>\n      <td>1.386294</td>\n      <td>-0.000000</td>\n      <td>-0.000000</td>\n      <td>-0.000000</td>\n      <td>-0.000000</td>\n      <td>-0.0</td>\n    </tr>\n    <tr>\n      <th>2020-12-31</th>\n      <td>1.0</td>\n      <td>0.0</td>\n      <td>0.0</td>\n      <td>0.0</td>\n      <td>7827.571429</td>\n      <td>4.443486e+06</td>\n      <td>15.857143</td>\n      <td>-15.857143</td>\n      <td>0.482143</td>\n      <td>554.071429</td>\n      <td>...</td>\n      <td>0.562335</td>\n      <td>1.039721</td>\n      <td>1.039721</td>\n      <td>1.039721</td>\n      <td>1.039721</td>\n      <td>-0.000000</td>\n      <td>-0.000000</td>\n      <td>-0.000000</td>\n      <td>-0.000000</td>\n      <td>-0.0</td>\n    </tr>\n  </tbody>\n</table>\n<p>164 rows × 1558 columns</p>\n</div>"
     },
     "metadata": {},
     "execution_count": 95
    }
   ],
   "source": [
    "impute(extracted_features_combo)"
   ]
  },
  {
   "cell_type": "code",
   "execution_count": 97,
   "metadata": {},
   "outputs": [],
   "source": [
    "covid_7day_trunc = covid_7day['2020-07-21':]"
   ]
  },
  {
   "cell_type": "code",
   "execution_count": 98,
   "metadata": {},
   "outputs": [],
   "source": [
    "from tsfresh import select_features\n",
    "features_filtered = select_features(extracted_features_combo, covid_7day_trunc)"
   ]
  },
  {
   "cell_type": "code",
   "execution_count": 99,
   "metadata": {},
   "outputs": [
    {
     "output_type": "stream",
     "name": "stdout",
     "text": [
      "<class 'pandas.core.frame.DataFrame'>\nDatetimeIndex: 164 entries, 2020-07-21 to 2020-12-31\nFreq: D\nColumns: 315 entries, value__cwt_coefficients__coeff_6__w_2__widths_(2, 5, 10, 20)_7 to value__index_mass_quantile__q_0.8_14\ndtypes: float64(315)\nmemory usage: 404.9 KB\n"
     ]
    }
   ],
   "source": [
    "features_filtered.info()"
   ]
  },
  {
   "cell_type": "code",
   "execution_count": 100,
   "metadata": {},
   "outputs": [],
   "source": [
    "X_train = features_filtered[:116]\n",
    "y_train = covid_7day_trunc[:116]\n",
    "X_test = features_filtered[116:]\n",
    "y_test = covid_7day_trunc[116:]"
   ]
  },
  {
   "cell_type": "code",
   "execution_count": 104,
   "metadata": {},
   "outputs": [
    {
     "output_type": "execute_result",
     "data": {
      "text/plain": [
       "RandomForestRegressor()"
      ]
     },
     "metadata": {},
     "execution_count": 104
    }
   ],
   "source": [
    "model_rf = RandomForestRegressor()\n",
    "model_rf.fit(X_train, y_train)"
   ]
  },
  {
   "cell_type": "code",
   "execution_count": 105,
   "metadata": {},
   "outputs": [],
   "source": [
    "train_result = model_rf.predict(X_train)\n",
    "test_result = model_rf.predict(X_test)"
   ]
  },
  {
   "cell_type": "code",
   "execution_count": 106,
   "metadata": {},
   "outputs": [],
   "source": [
    "total_result = np.concatenate((train_result, test_result))"
   ]
  },
  {
   "cell_type": "code",
   "execution_count": 107,
   "metadata": {},
   "outputs": [],
   "source": [
    "result_df = pd.DataFrame(total_result, index = features_filtered.index, columns=['modelled'])"
   ]
  },
  {
   "cell_type": "code",
   "execution_count": 108,
   "metadata": {},
   "outputs": [],
   "source": [
    "result_df = pd.concat([result_df, covid_7day_trunc], axis=1)"
   ]
  },
  {
   "cell_type": "code",
   "execution_count": 110,
   "metadata": {},
   "outputs": [
    {
     "output_type": "execute_result",
     "data": {
      "text/plain": [
       "              modelled  daily_case_7mean\n",
       "2020-07-21   29.350000         28.571429\n",
       "2020-07-22   30.764286         30.428571\n",
       "2020-07-23   31.512857         31.714286\n",
       "2020-07-24   31.487143         31.571429\n",
       "2020-07-25   30.652857         30.571429\n",
       "...                ...               ...\n",
       "2020-12-27  293.994286        493.428571\n",
       "2020-12-28  288.825714        480.857143\n",
       "2020-12-29  293.865714        472.142857\n",
       "2020-12-30  299.620000        467.571429\n",
       "2020-12-31  294.531429        483.000000\n",
       "\n",
       "[164 rows x 2 columns]"
      ],
      "text/html": "<div>\n<style scoped>\n    .dataframe tbody tr th:only-of-type {\n        vertical-align: middle;\n    }\n\n    .dataframe tbody tr th {\n        vertical-align: top;\n    }\n\n    .dataframe thead th {\n        text-align: right;\n    }\n</style>\n<table border=\"1\" class=\"dataframe\">\n  <thead>\n    <tr style=\"text-align: right;\">\n      <th></th>\n      <th>modelled</th>\n      <th>daily_case_7mean</th>\n    </tr>\n  </thead>\n  <tbody>\n    <tr>\n      <th>2020-07-21</th>\n      <td>29.350000</td>\n      <td>28.571429</td>\n    </tr>\n    <tr>\n      <th>2020-07-22</th>\n      <td>30.764286</td>\n      <td>30.428571</td>\n    </tr>\n    <tr>\n      <th>2020-07-23</th>\n      <td>31.512857</td>\n      <td>31.714286</td>\n    </tr>\n    <tr>\n      <th>2020-07-24</th>\n      <td>31.487143</td>\n      <td>31.571429</td>\n    </tr>\n    <tr>\n      <th>2020-07-25</th>\n      <td>30.652857</td>\n      <td>30.571429</td>\n    </tr>\n    <tr>\n      <th>...</th>\n      <td>...</td>\n      <td>...</td>\n    </tr>\n    <tr>\n      <th>2020-12-27</th>\n      <td>293.994286</td>\n      <td>493.428571</td>\n    </tr>\n    <tr>\n      <th>2020-12-28</th>\n      <td>288.825714</td>\n      <td>480.857143</td>\n    </tr>\n    <tr>\n      <th>2020-12-29</th>\n      <td>293.865714</td>\n      <td>472.142857</td>\n    </tr>\n    <tr>\n      <th>2020-12-30</th>\n      <td>299.620000</td>\n      <td>467.571429</td>\n    </tr>\n    <tr>\n      <th>2020-12-31</th>\n      <td>294.531429</td>\n      <td>483.000000</td>\n    </tr>\n  </tbody>\n</table>\n<p>164 rows × 2 columns</p>\n</div>"
     },
     "metadata": {},
     "execution_count": 110
    }
   ],
   "source": [
    "result_df"
   ]
  },
  {
   "cell_type": "code",
   "execution_count": 111,
   "metadata": {},
   "outputs": [
    {
     "output_type": "execute_result",
     "data": {
      "text/plain": [
       "<AxesSubplot:>"
      ]
     },
     "metadata": {},
     "execution_count": 111
    },
    {
     "output_type": "display_data",
     "data": {
      "text/plain": "<Figure size 432x288 with 1 Axes>",
      "image/svg+xml": "<?xml version=\"1.0\" encoding=\"utf-8\" standalone=\"no\"?>\r\n<!DOCTYPE svg PUBLIC \"-//W3C//DTD SVG 1.1//EN\"\r\n  \"http://www.w3.org/Graphics/SVG/1.1/DTD/svg11.dtd\">\r\n<!-- Created with matplotlib (https://matplotlib.org/) -->\r\n<svg height=\"259.715937pt\" version=\"1.1\" viewBox=\"0 0 375.2875 259.715937\" width=\"375.2875pt\" xmlns=\"http://www.w3.org/2000/svg\" xmlns:xlink=\"http://www.w3.org/1999/xlink\">\r\n <metadata>\r\n  <rdf:RDF xmlns:cc=\"http://creativecommons.org/ns#\" xmlns:dc=\"http://purl.org/dc/elements/1.1/\" xmlns:rdf=\"http://www.w3.org/1999/02/22-rdf-syntax-ns#\">\r\n   <cc:Work>\r\n    <dc:type rdf:resource=\"http://purl.org/dc/dcmitype/StillImage\"/>\r\n    <dc:date>2021-01-06T15:56:20.395421</dc:date>\r\n    <dc:format>image/svg+xml</dc:format>\r\n    <dc:creator>\r\n     <cc:Agent>\r\n      <dc:title>Matplotlib v3.3.3, https://matplotlib.org/</dc:title>\r\n     </cc:Agent>\r\n    </dc:creator>\r\n   </cc:Work>\r\n  </rdf:RDF>\r\n </metadata>\r\n <defs>\r\n  <style type=\"text/css\">*{stroke-linecap:butt;stroke-linejoin:round;}</style>\r\n </defs>\r\n <g id=\"figure_1\">\r\n  <g id=\"patch_1\">\r\n   <path d=\"M 0 259.715937 \r\nL 375.2875 259.715937 \r\nL 375.2875 0 \r\nL 0 0 \r\nz\r\n\" style=\"fill:none;\"/>\r\n  </g>\r\n  <g id=\"axes_1\">\r\n   <g id=\"patch_2\">\r\n    <path d=\"M 33.2875 224.64 \r\nL 368.0875 224.64 \r\nL 368.0875 7.2 \r\nL 33.2875 7.2 \r\nz\r\n\" style=\"fill:#ffffff;\"/>\r\n   </g>\r\n   <g id=\"matplotlib.axis_1\">\r\n    <g id=\"xtick_1\">\r\n     <g id=\"line2d_1\">\r\n      <defs>\r\n       <path d=\"M 0 0 \r\nL 0 3.5 \r\n\" id=\"m067019cf2f\" style=\"stroke:#000000;stroke-width:0.8;\"/>\r\n      </defs>\r\n      <g>\r\n       <use style=\"stroke:#000000;stroke-width:0.8;\" x=\"33.2875\" xlink:href=\"#m067019cf2f\" y=\"224.64\"/>\r\n      </g>\r\n     </g>\r\n    </g>\r\n    <g id=\"xtick_2\">\r\n     <g id=\"line2d_2\">\r\n      <g>\r\n       <use style=\"stroke:#000000;stroke-width:0.8;\" x=\"55.881365\" xlink:href=\"#m067019cf2f\" y=\"224.64\"/>\r\n      </g>\r\n     </g>\r\n     <g id=\"text_1\">\r\n      <!-- Aug -->\r\n      <g transform=\"translate(46.118084 239.238438)scale(0.1 -0.1)\">\r\n       <defs>\r\n        <path d=\"M 34.1875 63.1875 \r\nL 20.796875 26.90625 \r\nL 47.609375 26.90625 \r\nz\r\nM 28.609375 72.90625 \r\nL 39.796875 72.90625 \r\nL 67.578125 0 \r\nL 57.328125 0 \r\nL 50.6875 18.703125 \r\nL 17.828125 18.703125 \r\nL 11.1875 0 \r\nL 0.78125 0 \r\nz\r\n\" id=\"DejaVuSans-65\"/>\r\n        <path d=\"M 8.5 21.578125 \r\nL 8.5 54.6875 \r\nL 17.484375 54.6875 \r\nL 17.484375 21.921875 \r\nQ 17.484375 14.15625 20.5 10.265625 \r\nQ 23.53125 6.390625 29.59375 6.390625 \r\nQ 36.859375 6.390625 41.078125 11.03125 \r\nQ 45.3125 15.671875 45.3125 23.6875 \r\nL 45.3125 54.6875 \r\nL 54.296875 54.6875 \r\nL 54.296875 0 \r\nL 45.3125 0 \r\nL 45.3125 8.40625 \r\nQ 42.046875 3.421875 37.71875 1 \r\nQ 33.40625 -1.421875 27.6875 -1.421875 \r\nQ 18.265625 -1.421875 13.375 4.4375 \r\nQ 8.5 10.296875 8.5 21.578125 \r\nz\r\nM 31.109375 56 \r\nz\r\n\" id=\"DejaVuSans-117\"/>\r\n        <path d=\"M 45.40625 27.984375 \r\nQ 45.40625 37.75 41.375 43.109375 \r\nQ 37.359375 48.484375 30.078125 48.484375 \r\nQ 22.859375 48.484375 18.828125 43.109375 \r\nQ 14.796875 37.75 14.796875 27.984375 \r\nQ 14.796875 18.265625 18.828125 12.890625 \r\nQ 22.859375 7.515625 30.078125 7.515625 \r\nQ 37.359375 7.515625 41.375 12.890625 \r\nQ 45.40625 18.265625 45.40625 27.984375 \r\nz\r\nM 54.390625 6.78125 \r\nQ 54.390625 -7.171875 48.1875 -13.984375 \r\nQ 42 -20.796875 29.203125 -20.796875 \r\nQ 24.46875 -20.796875 20.265625 -20.09375 \r\nQ 16.0625 -19.390625 12.109375 -17.921875 \r\nL 12.109375 -9.1875 \r\nQ 16.0625 -11.328125 19.921875 -12.34375 \r\nQ 23.78125 -13.375 27.78125 -13.375 \r\nQ 36.625 -13.375 41.015625 -8.765625 \r\nQ 45.40625 -4.15625 45.40625 5.171875 \r\nL 45.40625 9.625 \r\nQ 42.625 4.78125 38.28125 2.390625 \r\nQ 33.9375 0 27.875 0 \r\nQ 17.828125 0 11.671875 7.65625 \r\nQ 5.515625 15.328125 5.515625 27.984375 \r\nQ 5.515625 40.671875 11.671875 48.328125 \r\nQ 17.828125 56 27.875 56 \r\nQ 33.9375 56 38.28125 53.609375 \r\nQ 42.625 51.21875 45.40625 46.390625 \r\nL 45.40625 54.6875 \r\nL 54.390625 54.6875 \r\nz\r\n\" id=\"DejaVuSans-103\"/>\r\n       </defs>\r\n       <use xlink:href=\"#DejaVuSans-65\"/>\r\n       <use x=\"68.408203\" xlink:href=\"#DejaVuSans-117\"/>\r\n       <use x=\"131.787109\" xlink:href=\"#DejaVuSans-103\"/>\r\n      </g>\r\n      <!-- 2020 -->\r\n      <g transform=\"translate(43.156365 250.43625)scale(0.1 -0.1)\">\r\n       <defs>\r\n        <path d=\"M 19.1875 8.296875 \r\nL 53.609375 8.296875 \r\nL 53.609375 0 \r\nL 7.328125 0 \r\nL 7.328125 8.296875 \r\nQ 12.9375 14.109375 22.625 23.890625 \r\nQ 32.328125 33.6875 34.8125 36.53125 \r\nQ 39.546875 41.84375 41.421875 45.53125 \r\nQ 43.3125 49.21875 43.3125 52.78125 \r\nQ 43.3125 58.59375 39.234375 62.25 \r\nQ 35.15625 65.921875 28.609375 65.921875 \r\nQ 23.96875 65.921875 18.8125 64.3125 \r\nQ 13.671875 62.703125 7.8125 59.421875 \r\nL 7.8125 69.390625 \r\nQ 13.765625 71.78125 18.9375 73 \r\nQ 24.125 74.21875 28.421875 74.21875 \r\nQ 39.75 74.21875 46.484375 68.546875 \r\nQ 53.21875 62.890625 53.21875 53.421875 \r\nQ 53.21875 48.921875 51.53125 44.890625 \r\nQ 49.859375 40.875 45.40625 35.40625 \r\nQ 44.1875 33.984375 37.640625 27.21875 \r\nQ 31.109375 20.453125 19.1875 8.296875 \r\nz\r\n\" id=\"DejaVuSans-50\"/>\r\n        <path d=\"M 31.78125 66.40625 \r\nQ 24.171875 66.40625 20.328125 58.90625 \r\nQ 16.5 51.421875 16.5 36.375 \r\nQ 16.5 21.390625 20.328125 13.890625 \r\nQ 24.171875 6.390625 31.78125 6.390625 \r\nQ 39.453125 6.390625 43.28125 13.890625 \r\nQ 47.125 21.390625 47.125 36.375 \r\nQ 47.125 51.421875 43.28125 58.90625 \r\nQ 39.453125 66.40625 31.78125 66.40625 \r\nz\r\nM 31.78125 74.21875 \r\nQ 44.046875 74.21875 50.515625 64.515625 \r\nQ 56.984375 54.828125 56.984375 36.375 \r\nQ 56.984375 17.96875 50.515625 8.265625 \r\nQ 44.046875 -1.421875 31.78125 -1.421875 \r\nQ 19.53125 -1.421875 13.0625 8.265625 \r\nQ 6.59375 17.96875 6.59375 36.375 \r\nQ 6.59375 54.828125 13.0625 64.515625 \r\nQ 19.53125 74.21875 31.78125 74.21875 \r\nz\r\n\" id=\"DejaVuSans-48\"/>\r\n       </defs>\r\n       <use xlink:href=\"#DejaVuSans-50\"/>\r\n       <use x=\"63.623047\" xlink:href=\"#DejaVuSans-48\"/>\r\n       <use x=\"127.246094\" xlink:href=\"#DejaVuSans-50\"/>\r\n       <use x=\"190.869141\" xlink:href=\"#DejaVuSans-48\"/>\r\n      </g>\r\n     </g>\r\n    </g>\r\n    <g id=\"xtick_3\">\r\n     <g id=\"line2d_3\">\r\n      <g>\r\n       <use style=\"stroke:#000000;stroke-width:0.8;\" x=\"119.554985\" xlink:href=\"#m067019cf2f\" y=\"224.64\"/>\r\n      </g>\r\n     </g>\r\n     <g id=\"text_2\">\r\n      <!-- Sep -->\r\n      <g transform=\"translate(110.129985 239.238438)scale(0.1 -0.1)\">\r\n       <defs>\r\n        <path d=\"M 53.515625 70.515625 \r\nL 53.515625 60.890625 \r\nQ 47.90625 63.578125 42.921875 64.890625 \r\nQ 37.9375 66.21875 33.296875 66.21875 \r\nQ 25.25 66.21875 20.875 63.09375 \r\nQ 16.5 59.96875 16.5 54.203125 \r\nQ 16.5 49.359375 19.40625 46.890625 \r\nQ 22.3125 44.4375 30.421875 42.921875 \r\nL 36.375 41.703125 \r\nQ 47.40625 39.59375 52.65625 34.296875 \r\nQ 57.90625 29 57.90625 20.125 \r\nQ 57.90625 9.515625 50.796875 4.046875 \r\nQ 43.703125 -1.421875 29.984375 -1.421875 \r\nQ 24.8125 -1.421875 18.96875 -0.25 \r\nQ 13.140625 0.921875 6.890625 3.21875 \r\nL 6.890625 13.375 \r\nQ 12.890625 10.015625 18.65625 8.296875 \r\nQ 24.421875 6.59375 29.984375 6.59375 \r\nQ 38.421875 6.59375 43.015625 9.90625 \r\nQ 47.609375 13.234375 47.609375 19.390625 \r\nQ 47.609375 24.75 44.3125 27.78125 \r\nQ 41.015625 30.8125 33.5 32.328125 \r\nL 27.484375 33.5 \r\nQ 16.453125 35.6875 11.515625 40.375 \r\nQ 6.59375 45.0625 6.59375 53.421875 \r\nQ 6.59375 63.09375 13.40625 68.65625 \r\nQ 20.21875 74.21875 32.171875 74.21875 \r\nQ 37.3125 74.21875 42.625 73.28125 \r\nQ 47.953125 72.359375 53.515625 70.515625 \r\nz\r\n\" id=\"DejaVuSans-83\"/>\r\n        <path d=\"M 56.203125 29.59375 \r\nL 56.203125 25.203125 \r\nL 14.890625 25.203125 \r\nQ 15.484375 15.921875 20.484375 11.0625 \r\nQ 25.484375 6.203125 34.421875 6.203125 \r\nQ 39.59375 6.203125 44.453125 7.46875 \r\nQ 49.3125 8.734375 54.109375 11.28125 \r\nL 54.109375 2.78125 \r\nQ 49.265625 0.734375 44.1875 -0.34375 \r\nQ 39.109375 -1.421875 33.890625 -1.421875 \r\nQ 20.796875 -1.421875 13.15625 6.1875 \r\nQ 5.515625 13.8125 5.515625 26.8125 \r\nQ 5.515625 40.234375 12.765625 48.109375 \r\nQ 20.015625 56 32.328125 56 \r\nQ 43.359375 56 49.78125 48.890625 \r\nQ 56.203125 41.796875 56.203125 29.59375 \r\nz\r\nM 47.21875 32.234375 \r\nQ 47.125 39.59375 43.09375 43.984375 \r\nQ 39.0625 48.390625 32.421875 48.390625 \r\nQ 24.90625 48.390625 20.390625 44.140625 \r\nQ 15.875 39.890625 15.1875 32.171875 \r\nz\r\n\" id=\"DejaVuSans-101\"/>\r\n        <path d=\"M 18.109375 8.203125 \r\nL 18.109375 -20.796875 \r\nL 9.078125 -20.796875 \r\nL 9.078125 54.6875 \r\nL 18.109375 54.6875 \r\nL 18.109375 46.390625 \r\nQ 20.953125 51.265625 25.265625 53.625 \r\nQ 29.59375 56 35.59375 56 \r\nQ 45.5625 56 51.78125 48.09375 \r\nQ 58.015625 40.1875 58.015625 27.296875 \r\nQ 58.015625 14.40625 51.78125 6.484375 \r\nQ 45.5625 -1.421875 35.59375 -1.421875 \r\nQ 29.59375 -1.421875 25.265625 0.953125 \r\nQ 20.953125 3.328125 18.109375 8.203125 \r\nz\r\nM 48.6875 27.296875 \r\nQ 48.6875 37.203125 44.609375 42.84375 \r\nQ 40.53125 48.484375 33.40625 48.484375 \r\nQ 26.265625 48.484375 22.1875 42.84375 \r\nQ 18.109375 37.203125 18.109375 27.296875 \r\nQ 18.109375 17.390625 22.1875 11.75 \r\nQ 26.265625 6.109375 33.40625 6.109375 \r\nQ 40.53125 6.109375 44.609375 11.75 \r\nQ 48.6875 17.390625 48.6875 27.296875 \r\nz\r\n\" id=\"DejaVuSans-112\"/>\r\n       </defs>\r\n       <use xlink:href=\"#DejaVuSans-83\"/>\r\n       <use x=\"63.476562\" xlink:href=\"#DejaVuSans-101\"/>\r\n       <use x=\"125\" xlink:href=\"#DejaVuSans-112\"/>\r\n      </g>\r\n     </g>\r\n    </g>\r\n    <g id=\"xtick_4\">\r\n     <g id=\"line2d_4\">\r\n      <g>\r\n       <use style=\"stroke:#000000;stroke-width:0.8;\" x=\"181.174617\" xlink:href=\"#m067019cf2f\" y=\"224.64\"/>\r\n      </g>\r\n     </g>\r\n     <g id=\"text_3\">\r\n      <!-- Oct -->\r\n      <g transform=\"translate(172.529304 239.238438)scale(0.1 -0.1)\">\r\n       <defs>\r\n        <path d=\"M 39.40625 66.21875 \r\nQ 28.65625 66.21875 22.328125 58.203125 \r\nQ 16.015625 50.203125 16.015625 36.375 \r\nQ 16.015625 22.609375 22.328125 14.59375 \r\nQ 28.65625 6.59375 39.40625 6.59375 \r\nQ 50.140625 6.59375 56.421875 14.59375 \r\nQ 62.703125 22.609375 62.703125 36.375 \r\nQ 62.703125 50.203125 56.421875 58.203125 \r\nQ 50.140625 66.21875 39.40625 66.21875 \r\nz\r\nM 39.40625 74.21875 \r\nQ 54.734375 74.21875 63.90625 63.9375 \r\nQ 73.09375 53.65625 73.09375 36.375 \r\nQ 73.09375 19.140625 63.90625 8.859375 \r\nQ 54.734375 -1.421875 39.40625 -1.421875 \r\nQ 24.03125 -1.421875 14.8125 8.828125 \r\nQ 5.609375 19.09375 5.609375 36.375 \r\nQ 5.609375 53.65625 14.8125 63.9375 \r\nQ 24.03125 74.21875 39.40625 74.21875 \r\nz\r\n\" id=\"DejaVuSans-79\"/>\r\n        <path d=\"M 48.78125 52.59375 \r\nL 48.78125 44.1875 \r\nQ 44.96875 46.296875 41.140625 47.34375 \r\nQ 37.3125 48.390625 33.40625 48.390625 \r\nQ 24.65625 48.390625 19.8125 42.84375 \r\nQ 14.984375 37.3125 14.984375 27.296875 \r\nQ 14.984375 17.28125 19.8125 11.734375 \r\nQ 24.65625 6.203125 33.40625 6.203125 \r\nQ 37.3125 6.203125 41.140625 7.25 \r\nQ 44.96875 8.296875 48.78125 10.40625 \r\nL 48.78125 2.09375 \r\nQ 45.015625 0.34375 40.984375 -0.53125 \r\nQ 36.96875 -1.421875 32.421875 -1.421875 \r\nQ 20.0625 -1.421875 12.78125 6.34375 \r\nQ 5.515625 14.109375 5.515625 27.296875 \r\nQ 5.515625 40.671875 12.859375 48.328125 \r\nQ 20.21875 56 33.015625 56 \r\nQ 37.15625 56 41.109375 55.140625 \r\nQ 45.0625 54.296875 48.78125 52.59375 \r\nz\r\n\" id=\"DejaVuSans-99\"/>\r\n        <path d=\"M 18.3125 70.21875 \r\nL 18.3125 54.6875 \r\nL 36.8125 54.6875 \r\nL 36.8125 47.703125 \r\nL 18.3125 47.703125 \r\nL 18.3125 18.015625 \r\nQ 18.3125 11.328125 20.140625 9.421875 \r\nQ 21.96875 7.515625 27.59375 7.515625 \r\nL 36.8125 7.515625 \r\nL 36.8125 0 \r\nL 27.59375 0 \r\nQ 17.1875 0 13.234375 3.875 \r\nQ 9.28125 7.765625 9.28125 18.015625 \r\nL 9.28125 47.703125 \r\nL 2.6875 47.703125 \r\nL 2.6875 54.6875 \r\nL 9.28125 54.6875 \r\nL 9.28125 70.21875 \r\nz\r\n\" id=\"DejaVuSans-116\"/>\r\n       </defs>\r\n       <use xlink:href=\"#DejaVuSans-79\"/>\r\n       <use x=\"78.710938\" xlink:href=\"#DejaVuSans-99\"/>\r\n       <use x=\"133.691406\" xlink:href=\"#DejaVuSans-116\"/>\r\n      </g>\r\n     </g>\r\n    </g>\r\n    <g id=\"xtick_5\">\r\n     <g id=\"line2d_5\">\r\n      <g>\r\n       <use style=\"stroke:#000000;stroke-width:0.8;\" x=\"244.848236\" xlink:href=\"#m067019cf2f\" y=\"224.64\"/>\r\n      </g>\r\n     </g>\r\n     <g id=\"text_4\">\r\n      <!-- Nov -->\r\n      <g transform=\"translate(235.088861 239.238438)scale(0.1 -0.1)\">\r\n       <defs>\r\n        <path d=\"M 9.8125 72.90625 \r\nL 23.09375 72.90625 \r\nL 55.421875 11.921875 \r\nL 55.421875 72.90625 \r\nL 64.984375 72.90625 \r\nL 64.984375 0 \r\nL 51.703125 0 \r\nL 19.390625 60.984375 \r\nL 19.390625 0 \r\nL 9.8125 0 \r\nz\r\n\" id=\"DejaVuSans-78\"/>\r\n        <path d=\"M 30.609375 48.390625 \r\nQ 23.390625 48.390625 19.1875 42.75 \r\nQ 14.984375 37.109375 14.984375 27.296875 \r\nQ 14.984375 17.484375 19.15625 11.84375 \r\nQ 23.34375 6.203125 30.609375 6.203125 \r\nQ 37.796875 6.203125 41.984375 11.859375 \r\nQ 46.1875 17.53125 46.1875 27.296875 \r\nQ 46.1875 37.015625 41.984375 42.703125 \r\nQ 37.796875 48.390625 30.609375 48.390625 \r\nz\r\nM 30.609375 56 \r\nQ 42.328125 56 49.015625 48.375 \r\nQ 55.71875 40.765625 55.71875 27.296875 \r\nQ 55.71875 13.875 49.015625 6.21875 \r\nQ 42.328125 -1.421875 30.609375 -1.421875 \r\nQ 18.84375 -1.421875 12.171875 6.21875 \r\nQ 5.515625 13.875 5.515625 27.296875 \r\nQ 5.515625 40.765625 12.171875 48.375 \r\nQ 18.84375 56 30.609375 56 \r\nz\r\n\" id=\"DejaVuSans-111\"/>\r\n        <path d=\"M 2.984375 54.6875 \r\nL 12.5 54.6875 \r\nL 29.59375 8.796875 \r\nL 46.6875 54.6875 \r\nL 56.203125 54.6875 \r\nL 35.6875 0 \r\nL 23.484375 0 \r\nz\r\n\" id=\"DejaVuSans-118\"/>\r\n       </defs>\r\n       <use xlink:href=\"#DejaVuSans-78\"/>\r\n       <use x=\"74.804688\" xlink:href=\"#DejaVuSans-111\"/>\r\n       <use x=\"135.986328\" xlink:href=\"#DejaVuSans-118\"/>\r\n      </g>\r\n     </g>\r\n    </g>\r\n    <g id=\"xtick_6\">\r\n     <g id=\"line2d_6\">\r\n      <g>\r\n       <use style=\"stroke:#000000;stroke-width:0.8;\" x=\"306.467868\" xlink:href=\"#m067019cf2f\" y=\"224.64\"/>\r\n      </g>\r\n     </g>\r\n     <g id=\"text_5\">\r\n      <!-- Dec -->\r\n      <g transform=\"translate(296.792087 239.238438)scale(0.1 -0.1)\">\r\n       <defs>\r\n        <path d=\"M 19.671875 64.796875 \r\nL 19.671875 8.109375 \r\nL 31.59375 8.109375 \r\nQ 46.6875 8.109375 53.6875 14.9375 \r\nQ 60.6875 21.78125 60.6875 36.53125 \r\nQ 60.6875 51.171875 53.6875 57.984375 \r\nQ 46.6875 64.796875 31.59375 64.796875 \r\nz\r\nM 9.8125 72.90625 \r\nL 30.078125 72.90625 \r\nQ 51.265625 72.90625 61.171875 64.09375 \r\nQ 71.09375 55.28125 71.09375 36.53125 \r\nQ 71.09375 17.671875 61.125 8.828125 \r\nQ 51.171875 0 30.078125 0 \r\nL 9.8125 0 \r\nz\r\n\" id=\"DejaVuSans-68\"/>\r\n       </defs>\r\n       <use xlink:href=\"#DejaVuSans-68\"/>\r\n       <use x=\"77.001953\" xlink:href=\"#DejaVuSans-101\"/>\r\n       <use x=\"138.525391\" xlink:href=\"#DejaVuSans-99\"/>\r\n      </g>\r\n     </g>\r\n    </g>\r\n    <g id=\"xtick_7\">\r\n     <g id=\"line2d_7\">\r\n      <g>\r\n       <use style=\"stroke:#000000;stroke-width:0.8;\" x=\"368.0875\" xlink:href=\"#m067019cf2f\" y=\"224.64\"/>\r\n      </g>\r\n     </g>\r\n    </g>\r\n    <g id=\"xtick_8\">\r\n     <g id=\"line2d_8\">\r\n      <defs>\r\n       <path d=\"M 0 0 \r\nL 0 2 \r\n\" id=\"m51e5c76826\" style=\"stroke:#000000;stroke-width:0.6;\"/>\r\n      </defs>\r\n      <g>\r\n       <use style=\"stroke:#000000;stroke-width:0.6;\" x=\"45.611426\" xlink:href=\"#m51e5c76826\" y=\"224.64\"/>\r\n      </g>\r\n     </g>\r\n    </g>\r\n    <g id=\"xtick_9\">\r\n     <g id=\"line2d_9\">\r\n      <g>\r\n       <use style=\"stroke:#000000;stroke-width:0.6;\" x=\"59.98934\" xlink:href=\"#m51e5c76826\" y=\"224.64\"/>\r\n      </g>\r\n     </g>\r\n    </g>\r\n    <g id=\"xtick_10\">\r\n     <g id=\"line2d_10\">\r\n      <g>\r\n       <use style=\"stroke:#000000;stroke-width:0.6;\" x=\"74.367255\" xlink:href=\"#m51e5c76826\" y=\"224.64\"/>\r\n      </g>\r\n     </g>\r\n    </g>\r\n    <g id=\"xtick_11\">\r\n     <g id=\"line2d_11\">\r\n      <g>\r\n       <use style=\"stroke:#000000;stroke-width:0.6;\" x=\"88.745169\" xlink:href=\"#m51e5c76826\" y=\"224.64\"/>\r\n      </g>\r\n     </g>\r\n    </g>\r\n    <g id=\"xtick_12\">\r\n     <g id=\"line2d_12\">\r\n      <g>\r\n       <use style=\"stroke:#000000;stroke-width:0.6;\" x=\"103.123083\" xlink:href=\"#m51e5c76826\" y=\"224.64\"/>\r\n      </g>\r\n     </g>\r\n    </g>\r\n    <g id=\"xtick_13\">\r\n     <g id=\"line2d_13\">\r\n      <g>\r\n       <use style=\"stroke:#000000;stroke-width:0.6;\" x=\"117.500997\" xlink:href=\"#m51e5c76826\" y=\"224.64\"/>\r\n      </g>\r\n     </g>\r\n    </g>\r\n    <g id=\"xtick_14\">\r\n     <g id=\"line2d_14\">\r\n      <g>\r\n       <use style=\"stroke:#000000;stroke-width:0.6;\" x=\"131.878911\" xlink:href=\"#m51e5c76826\" y=\"224.64\"/>\r\n      </g>\r\n     </g>\r\n    </g>\r\n    <g id=\"xtick_15\">\r\n     <g id=\"line2d_15\">\r\n      <g>\r\n       <use style=\"stroke:#000000;stroke-width:0.6;\" x=\"146.256825\" xlink:href=\"#m51e5c76826\" y=\"224.64\"/>\r\n      </g>\r\n     </g>\r\n    </g>\r\n    <g id=\"xtick_16\">\r\n     <g id=\"line2d_16\">\r\n      <g>\r\n       <use style=\"stroke:#000000;stroke-width:0.6;\" x=\"160.634739\" xlink:href=\"#m51e5c76826\" y=\"224.64\"/>\r\n      </g>\r\n     </g>\r\n    </g>\r\n    <g id=\"xtick_17\">\r\n     <g id=\"line2d_17\">\r\n      <g>\r\n       <use style=\"stroke:#000000;stroke-width:0.6;\" x=\"175.012653\" xlink:href=\"#m51e5c76826\" y=\"224.64\"/>\r\n      </g>\r\n     </g>\r\n    </g>\r\n    <g id=\"xtick_18\">\r\n     <g id=\"line2d_18\">\r\n      <g>\r\n       <use style=\"stroke:#000000;stroke-width:0.6;\" x=\"189.390567\" xlink:href=\"#m51e5c76826\" y=\"224.64\"/>\r\n      </g>\r\n     </g>\r\n    </g>\r\n    <g id=\"xtick_19\">\r\n     <g id=\"line2d_19\">\r\n      <g>\r\n       <use style=\"stroke:#000000;stroke-width:0.6;\" x=\"203.768482\" xlink:href=\"#m51e5c76826\" y=\"224.64\"/>\r\n      </g>\r\n     </g>\r\n    </g>\r\n    <g id=\"xtick_20\">\r\n     <g id=\"line2d_20\">\r\n      <g>\r\n       <use style=\"stroke:#000000;stroke-width:0.6;\" x=\"218.146396\" xlink:href=\"#m51e5c76826\" y=\"224.64\"/>\r\n      </g>\r\n     </g>\r\n    </g>\r\n    <g id=\"xtick_21\">\r\n     <g id=\"line2d_21\">\r\n      <g>\r\n       <use style=\"stroke:#000000;stroke-width:0.6;\" x=\"232.52431\" xlink:href=\"#m51e5c76826\" y=\"224.64\"/>\r\n      </g>\r\n     </g>\r\n    </g>\r\n    <g id=\"xtick_22\">\r\n     <g id=\"line2d_22\">\r\n      <g>\r\n       <use style=\"stroke:#000000;stroke-width:0.6;\" x=\"246.902224\" xlink:href=\"#m51e5c76826\" y=\"224.64\"/>\r\n      </g>\r\n     </g>\r\n    </g>\r\n    <g id=\"xtick_23\">\r\n     <g id=\"line2d_23\">\r\n      <g>\r\n       <use style=\"stroke:#000000;stroke-width:0.6;\" x=\"261.280138\" xlink:href=\"#m51e5c76826\" y=\"224.64\"/>\r\n      </g>\r\n     </g>\r\n    </g>\r\n    <g id=\"xtick_24\">\r\n     <g id=\"line2d_24\">\r\n      <g>\r\n       <use style=\"stroke:#000000;stroke-width:0.6;\" x=\"275.658052\" xlink:href=\"#m51e5c76826\" y=\"224.64\"/>\r\n      </g>\r\n     </g>\r\n    </g>\r\n    <g id=\"xtick_25\">\r\n     <g id=\"line2d_25\">\r\n      <g>\r\n       <use style=\"stroke:#000000;stroke-width:0.6;\" x=\"290.035966\" xlink:href=\"#m51e5c76826\" y=\"224.64\"/>\r\n      </g>\r\n     </g>\r\n    </g>\r\n    <g id=\"xtick_26\">\r\n     <g id=\"line2d_26\">\r\n      <g>\r\n       <use style=\"stroke:#000000;stroke-width:0.6;\" x=\"304.41388\" xlink:href=\"#m51e5c76826\" y=\"224.64\"/>\r\n      </g>\r\n     </g>\r\n    </g>\r\n    <g id=\"xtick_27\">\r\n     <g id=\"line2d_27\">\r\n      <g>\r\n       <use style=\"stroke:#000000;stroke-width:0.6;\" x=\"318.791794\" xlink:href=\"#m51e5c76826\" y=\"224.64\"/>\r\n      </g>\r\n     </g>\r\n    </g>\r\n    <g id=\"xtick_28\">\r\n     <g id=\"line2d_28\">\r\n      <g>\r\n       <use style=\"stroke:#000000;stroke-width:0.6;\" x=\"333.169709\" xlink:href=\"#m51e5c76826\" y=\"224.64\"/>\r\n      </g>\r\n     </g>\r\n    </g>\r\n    <g id=\"xtick_29\">\r\n     <g id=\"line2d_29\">\r\n      <g>\r\n       <use style=\"stroke:#000000;stroke-width:0.6;\" x=\"347.547623\" xlink:href=\"#m51e5c76826\" y=\"224.64\"/>\r\n      </g>\r\n     </g>\r\n    </g>\r\n    <g id=\"xtick_30\">\r\n     <g id=\"line2d_30\">\r\n      <g>\r\n       <use style=\"stroke:#000000;stroke-width:0.6;\" x=\"361.925537\" xlink:href=\"#m51e5c76826\" y=\"224.64\"/>\r\n      </g>\r\n     </g>\r\n    </g>\r\n   </g>\r\n   <g id=\"matplotlib.axis_2\">\r\n    <g id=\"ytick_1\">\r\n     <g id=\"line2d_31\">\r\n      <defs>\r\n       <path d=\"M 0 0 \r\nL -3.5 0 \r\n\" id=\"mc884d9ded0\" style=\"stroke:#000000;stroke-width:0.8;\"/>\r\n      </defs>\r\n      <g>\r\n       <use style=\"stroke:#000000;stroke-width:0.8;\" x=\"33.2875\" xlink:href=\"#mc884d9ded0\" y=\"221.595644\"/>\r\n      </g>\r\n     </g>\r\n     <g id=\"text_6\">\r\n      <!-- 0 -->\r\n      <g transform=\"translate(19.925 225.394862)scale(0.1 -0.1)\">\r\n       <use xlink:href=\"#DejaVuSans-48\"/>\r\n      </g>\r\n     </g>\r\n    </g>\r\n    <g id=\"ytick_2\">\r\n     <g id=\"line2d_32\">\r\n      <g>\r\n       <use style=\"stroke:#000000;stroke-width:0.8;\" x=\"33.2875\" xlink:href=\"#mc884d9ded0\" y=\"197.044382\"/>\r\n      </g>\r\n     </g>\r\n     <g id=\"text_7\">\r\n      <!-- 100 -->\r\n      <g transform=\"translate(7.2 200.843601)scale(0.1 -0.1)\">\r\n       <defs>\r\n        <path d=\"M 12.40625 8.296875 \r\nL 28.515625 8.296875 \r\nL 28.515625 63.921875 \r\nL 10.984375 60.40625 \r\nL 10.984375 69.390625 \r\nL 28.421875 72.90625 \r\nL 38.28125 72.90625 \r\nL 38.28125 8.296875 \r\nL 54.390625 8.296875 \r\nL 54.390625 0 \r\nL 12.40625 0 \r\nz\r\n\" id=\"DejaVuSans-49\"/>\r\n       </defs>\r\n       <use xlink:href=\"#DejaVuSans-49\"/>\r\n       <use x=\"63.623047\" xlink:href=\"#DejaVuSans-48\"/>\r\n       <use x=\"127.246094\" xlink:href=\"#DejaVuSans-48\"/>\r\n      </g>\r\n     </g>\r\n    </g>\r\n    <g id=\"ytick_3\">\r\n     <g id=\"line2d_33\">\r\n      <g>\r\n       <use style=\"stroke:#000000;stroke-width:0.8;\" x=\"33.2875\" xlink:href=\"#mc884d9ded0\" y=\"172.493121\"/>\r\n      </g>\r\n     </g>\r\n     <g id=\"text_8\">\r\n      <!-- 200 -->\r\n      <g transform=\"translate(7.2 176.29234)scale(0.1 -0.1)\">\r\n       <use xlink:href=\"#DejaVuSans-50\"/>\r\n       <use x=\"63.623047\" xlink:href=\"#DejaVuSans-48\"/>\r\n       <use x=\"127.246094\" xlink:href=\"#DejaVuSans-48\"/>\r\n      </g>\r\n     </g>\r\n    </g>\r\n    <g id=\"ytick_4\">\r\n     <g id=\"line2d_34\">\r\n      <g>\r\n       <use style=\"stroke:#000000;stroke-width:0.8;\" x=\"33.2875\" xlink:href=\"#mc884d9ded0\" y=\"147.941859\"/>\r\n      </g>\r\n     </g>\r\n     <g id=\"text_9\">\r\n      <!-- 300 -->\r\n      <g transform=\"translate(7.2 151.741078)scale(0.1 -0.1)\">\r\n       <defs>\r\n        <path d=\"M 40.578125 39.3125 \r\nQ 47.65625 37.796875 51.625 33 \r\nQ 55.609375 28.21875 55.609375 21.1875 \r\nQ 55.609375 10.40625 48.1875 4.484375 \r\nQ 40.765625 -1.421875 27.09375 -1.421875 \r\nQ 22.515625 -1.421875 17.65625 -0.515625 \r\nQ 12.796875 0.390625 7.625 2.203125 \r\nL 7.625 11.71875 \r\nQ 11.71875 9.328125 16.59375 8.109375 \r\nQ 21.484375 6.890625 26.8125 6.890625 \r\nQ 36.078125 6.890625 40.9375 10.546875 \r\nQ 45.796875 14.203125 45.796875 21.1875 \r\nQ 45.796875 27.640625 41.28125 31.265625 \r\nQ 36.765625 34.90625 28.71875 34.90625 \r\nL 20.21875 34.90625 \r\nL 20.21875 43.015625 \r\nL 29.109375 43.015625 \r\nQ 36.375 43.015625 40.234375 45.921875 \r\nQ 44.09375 48.828125 44.09375 54.296875 \r\nQ 44.09375 59.90625 40.109375 62.90625 \r\nQ 36.140625 65.921875 28.71875 65.921875 \r\nQ 24.65625 65.921875 20.015625 65.03125 \r\nQ 15.375 64.15625 9.8125 62.3125 \r\nL 9.8125 71.09375 \r\nQ 15.4375 72.65625 20.34375 73.4375 \r\nQ 25.25 74.21875 29.59375 74.21875 \r\nQ 40.828125 74.21875 47.359375 69.109375 \r\nQ 53.90625 64.015625 53.90625 55.328125 \r\nQ 53.90625 49.265625 50.4375 45.09375 \r\nQ 46.96875 40.921875 40.578125 39.3125 \r\nz\r\n\" id=\"DejaVuSans-51\"/>\r\n       </defs>\r\n       <use xlink:href=\"#DejaVuSans-51\"/>\r\n       <use x=\"63.623047\" xlink:href=\"#DejaVuSans-48\"/>\r\n       <use x=\"127.246094\" xlink:href=\"#DejaVuSans-48\"/>\r\n      </g>\r\n     </g>\r\n    </g>\r\n    <g id=\"ytick_5\">\r\n     <g id=\"line2d_35\">\r\n      <g>\r\n       <use style=\"stroke:#000000;stroke-width:0.8;\" x=\"33.2875\" xlink:href=\"#mc884d9ded0\" y=\"123.390598\"/>\r\n      </g>\r\n     </g>\r\n     <g id=\"text_10\">\r\n      <!-- 400 -->\r\n      <g transform=\"translate(7.2 127.189817)scale(0.1 -0.1)\">\r\n       <defs>\r\n        <path d=\"M 37.796875 64.3125 \r\nL 12.890625 25.390625 \r\nL 37.796875 25.390625 \r\nz\r\nM 35.203125 72.90625 \r\nL 47.609375 72.90625 \r\nL 47.609375 25.390625 \r\nL 58.015625 25.390625 \r\nL 58.015625 17.1875 \r\nL 47.609375 17.1875 \r\nL 47.609375 0 \r\nL 37.796875 0 \r\nL 37.796875 17.1875 \r\nL 4.890625 17.1875 \r\nL 4.890625 26.703125 \r\nz\r\n\" id=\"DejaVuSans-52\"/>\r\n       </defs>\r\n       <use xlink:href=\"#DejaVuSans-52\"/>\r\n       <use x=\"63.623047\" xlink:href=\"#DejaVuSans-48\"/>\r\n       <use x=\"127.246094\" xlink:href=\"#DejaVuSans-48\"/>\r\n      </g>\r\n     </g>\r\n    </g>\r\n    <g id=\"ytick_6\">\r\n     <g id=\"line2d_36\">\r\n      <g>\r\n       <use style=\"stroke:#000000;stroke-width:0.8;\" x=\"33.2875\" xlink:href=\"#mc884d9ded0\" y=\"98.839337\"/>\r\n      </g>\r\n     </g>\r\n     <g id=\"text_11\">\r\n      <!-- 500 -->\r\n      <g transform=\"translate(7.2 102.638555)scale(0.1 -0.1)\">\r\n       <defs>\r\n        <path d=\"M 10.796875 72.90625 \r\nL 49.515625 72.90625 \r\nL 49.515625 64.59375 \r\nL 19.828125 64.59375 \r\nL 19.828125 46.734375 \r\nQ 21.96875 47.46875 24.109375 47.828125 \r\nQ 26.265625 48.1875 28.421875 48.1875 \r\nQ 40.625 48.1875 47.75 41.5 \r\nQ 54.890625 34.8125 54.890625 23.390625 \r\nQ 54.890625 11.625 47.5625 5.09375 \r\nQ 40.234375 -1.421875 26.90625 -1.421875 \r\nQ 22.3125 -1.421875 17.546875 -0.640625 \r\nQ 12.796875 0.140625 7.71875 1.703125 \r\nL 7.71875 11.625 \r\nQ 12.109375 9.234375 16.796875 8.0625 \r\nQ 21.484375 6.890625 26.703125 6.890625 \r\nQ 35.15625 6.890625 40.078125 11.328125 \r\nQ 45.015625 15.765625 45.015625 23.390625 \r\nQ 45.015625 31 40.078125 35.4375 \r\nQ 35.15625 39.890625 26.703125 39.890625 \r\nQ 22.75 39.890625 18.8125 39.015625 \r\nQ 14.890625 38.140625 10.796875 36.28125 \r\nz\r\n\" id=\"DejaVuSans-53\"/>\r\n       </defs>\r\n       <use xlink:href=\"#DejaVuSans-53\"/>\r\n       <use x=\"63.623047\" xlink:href=\"#DejaVuSans-48\"/>\r\n       <use x=\"127.246094\" xlink:href=\"#DejaVuSans-48\"/>\r\n      </g>\r\n     </g>\r\n    </g>\r\n    <g id=\"ytick_7\">\r\n     <g id=\"line2d_37\">\r\n      <g>\r\n       <use style=\"stroke:#000000;stroke-width:0.8;\" x=\"33.2875\" xlink:href=\"#mc884d9ded0\" y=\"74.288075\"/>\r\n      </g>\r\n     </g>\r\n     <g id=\"text_12\">\r\n      <!-- 600 -->\r\n      <g transform=\"translate(7.2 78.087294)scale(0.1 -0.1)\">\r\n       <defs>\r\n        <path d=\"M 33.015625 40.375 \r\nQ 26.375 40.375 22.484375 35.828125 \r\nQ 18.609375 31.296875 18.609375 23.390625 \r\nQ 18.609375 15.53125 22.484375 10.953125 \r\nQ 26.375 6.390625 33.015625 6.390625 \r\nQ 39.65625 6.390625 43.53125 10.953125 \r\nQ 47.40625 15.53125 47.40625 23.390625 \r\nQ 47.40625 31.296875 43.53125 35.828125 \r\nQ 39.65625 40.375 33.015625 40.375 \r\nz\r\nM 52.59375 71.296875 \r\nL 52.59375 62.3125 \r\nQ 48.875 64.0625 45.09375 64.984375 \r\nQ 41.3125 65.921875 37.59375 65.921875 \r\nQ 27.828125 65.921875 22.671875 59.328125 \r\nQ 17.53125 52.734375 16.796875 39.40625 \r\nQ 19.671875 43.65625 24.015625 45.921875 \r\nQ 28.375 48.1875 33.59375 48.1875 \r\nQ 44.578125 48.1875 50.953125 41.515625 \r\nQ 57.328125 34.859375 57.328125 23.390625 \r\nQ 57.328125 12.15625 50.6875 5.359375 \r\nQ 44.046875 -1.421875 33.015625 -1.421875 \r\nQ 20.359375 -1.421875 13.671875 8.265625 \r\nQ 6.984375 17.96875 6.984375 36.375 \r\nQ 6.984375 53.65625 15.1875 63.9375 \r\nQ 23.390625 74.21875 37.203125 74.21875 \r\nQ 40.921875 74.21875 44.703125 73.484375 \r\nQ 48.484375 72.75 52.59375 71.296875 \r\nz\r\n\" id=\"DejaVuSans-54\"/>\r\n       </defs>\r\n       <use xlink:href=\"#DejaVuSans-54\"/>\r\n       <use x=\"63.623047\" xlink:href=\"#DejaVuSans-48\"/>\r\n       <use x=\"127.246094\" xlink:href=\"#DejaVuSans-48\"/>\r\n      </g>\r\n     </g>\r\n    </g>\r\n    <g id=\"ytick_8\">\r\n     <g id=\"line2d_38\">\r\n      <g>\r\n       <use style=\"stroke:#000000;stroke-width:0.8;\" x=\"33.2875\" xlink:href=\"#mc884d9ded0\" y=\"49.736814\"/>\r\n      </g>\r\n     </g>\r\n     <g id=\"text_13\">\r\n      <!-- 700 -->\r\n      <g transform=\"translate(7.2 53.536033)scale(0.1 -0.1)\">\r\n       <defs>\r\n        <path d=\"M 8.203125 72.90625 \r\nL 55.078125 72.90625 \r\nL 55.078125 68.703125 \r\nL 28.609375 0 \r\nL 18.3125 0 \r\nL 43.21875 64.59375 \r\nL 8.203125 64.59375 \r\nz\r\n\" id=\"DejaVuSans-55\"/>\r\n       </defs>\r\n       <use xlink:href=\"#DejaVuSans-55\"/>\r\n       <use x=\"63.623047\" xlink:href=\"#DejaVuSans-48\"/>\r\n       <use x=\"127.246094\" xlink:href=\"#DejaVuSans-48\"/>\r\n      </g>\r\n     </g>\r\n    </g>\r\n    <g id=\"ytick_9\">\r\n     <g id=\"line2d_39\">\r\n      <g>\r\n       <use style=\"stroke:#000000;stroke-width:0.8;\" x=\"33.2875\" xlink:href=\"#mc884d9ded0\" y=\"25.185553\"/>\r\n      </g>\r\n     </g>\r\n     <g id=\"text_14\">\r\n      <!-- 800 -->\r\n      <g transform=\"translate(7.2 28.984771)scale(0.1 -0.1)\">\r\n       <defs>\r\n        <path d=\"M 31.78125 34.625 \r\nQ 24.75 34.625 20.71875 30.859375 \r\nQ 16.703125 27.09375 16.703125 20.515625 \r\nQ 16.703125 13.921875 20.71875 10.15625 \r\nQ 24.75 6.390625 31.78125 6.390625 \r\nQ 38.8125 6.390625 42.859375 10.171875 \r\nQ 46.921875 13.96875 46.921875 20.515625 \r\nQ 46.921875 27.09375 42.890625 30.859375 \r\nQ 38.875 34.625 31.78125 34.625 \r\nz\r\nM 21.921875 38.8125 \r\nQ 15.578125 40.375 12.03125 44.71875 \r\nQ 8.5 49.078125 8.5 55.328125 \r\nQ 8.5 64.0625 14.71875 69.140625 \r\nQ 20.953125 74.21875 31.78125 74.21875 \r\nQ 42.671875 74.21875 48.875 69.140625 \r\nQ 55.078125 64.0625 55.078125 55.328125 \r\nQ 55.078125 49.078125 51.53125 44.71875 \r\nQ 48 40.375 41.703125 38.8125 \r\nQ 48.828125 37.15625 52.796875 32.3125 \r\nQ 56.78125 27.484375 56.78125 20.515625 \r\nQ 56.78125 9.90625 50.3125 4.234375 \r\nQ 43.84375 -1.421875 31.78125 -1.421875 \r\nQ 19.734375 -1.421875 13.25 4.234375 \r\nQ 6.78125 9.90625 6.78125 20.515625 \r\nQ 6.78125 27.484375 10.78125 32.3125 \r\nQ 14.796875 37.15625 21.921875 38.8125 \r\nz\r\nM 18.3125 54.390625 \r\nQ 18.3125 48.734375 21.84375 45.5625 \r\nQ 25.390625 42.390625 31.78125 42.390625 \r\nQ 38.140625 42.390625 41.71875 45.5625 \r\nQ 45.3125 48.734375 45.3125 54.390625 \r\nQ 45.3125 60.0625 41.71875 63.234375 \r\nQ 38.140625 66.40625 31.78125 66.40625 \r\nQ 25.390625 66.40625 21.84375 63.234375 \r\nQ 18.3125 60.0625 18.3125 54.390625 \r\nz\r\n\" id=\"DejaVuSans-56\"/>\r\n       </defs>\r\n       <use xlink:href=\"#DejaVuSans-56\"/>\r\n       <use x=\"63.623047\" xlink:href=\"#DejaVuSans-48\"/>\r\n       <use x=\"127.246094\" xlink:href=\"#DejaVuSans-48\"/>\r\n      </g>\r\n     </g>\r\n    </g>\r\n   </g>\r\n   <g id=\"line2d_40\">\r\n    <path clip-path=\"url(#pdafdf30da4)\" d=\"M 33.2875 214.389848 \r\nL 35.341488 214.042623 \r\nL 37.395475 213.85884 \r\nL 39.449463 213.865153 \r\nL 47.665414 214.581348 \r\nL 51.77339 214.456137 \r\nL 53.827377 213.858489 \r\nL 55.881365 213.481452 \r\nL 57.935353 213.256983 \r\nL 64.097316 212.13008 \r\nL 66.151304 211.596616 \r\nL 68.205291 211.20555 \r\nL 70.259279 211.04281 \r\nL 74.367255 210.505839 \r\nL 76.421242 210.086714 \r\nL 82.583206 206.86629 \r\nL 84.637193 205.532104 \r\nL 90.799156 202.112815 \r\nL 92.853144 202.252055 \r\nL 94.907132 202.173141 \r\nL 101.069095 201.481497 \r\nL 103.123083 201.236685 \r\nL 105.177071 201.737531 \r\nL 109.285046 202.104046 \r\nL 111.339034 201.356636 \r\nL 113.393021 201.041328 \r\nL 115.447009 200.561526 \r\nL 117.500997 200.310752 \r\nL 119.554985 200.19466 \r\nL 123.66296 198.377165 \r\nL 125.716948 198.028888 \r\nL 127.770936 197.518572 \r\nL 131.878911 197.065075 \r\nL 133.932899 196.163343 \r\nL 135.986887 195.077125 \r\nL 138.040874 193.433242 \r\nL 140.094862 193.105308 \r\nL 146.256825 193.458846 \r\nL 148.310813 193.601594 \r\nL 150.364801 193.325918 \r\nL 152.418788 192.547293 \r\nL 156.526764 189.919957 \r\nL 160.634739 189.141331 \r\nL 162.688727 189.299161 \r\nL 164.742715 190.257011 \r\nL 166.796702 190.908321 \r\nL 168.85069 192.25373 \r\nL 172.958666 195.594455 \r\nL 175.012653 196.395878 \r\nL 177.066641 196.003409 \r\nL 179.120629 196.040937 \r\nL 181.174617 197.051748 \r\nL 183.228604 195.827692 \r\nL 185.282592 195.339472 \r\nL 189.390567 192.1436 \r\nL 191.444555 192.078364 \r\nL 193.498543 192.45505 \r\nL 195.552531 192.271266 \r\nL 197.606518 193.028147 \r\nL 199.660506 192.796313 \r\nL 201.714494 192.266707 \r\nL 205.822469 190.449563 \r\nL 207.876457 189.08802 \r\nL 209.930445 188.140341 \r\nL 211.984433 186.918039 \r\nL 216.092408 184.774013 \r\nL 218.146396 183.626066 \r\nL 220.200383 182.342035 \r\nL 222.254371 180.601 \r\nL 224.308359 177.350413 \r\nL 226.362347 173.529184 \r\nL 228.416334 170.503066 \r\nL 232.52431 162.189307 \r\nL 234.578298 159.110579 \r\nL 236.632285 157.769729 \r\nL 238.686273 157.662756 \r\nL 240.740261 157.253101 \r\nL 242.794248 154.662943 \r\nL 244.848236 151.427788 \r\nL 248.956212 144.433133 \r\nL 251.010199 141.827894 \r\nL 253.064187 138.400187 \r\nL 257.172163 118.148904 \r\nL 261.280138 108.851692 \r\nL 263.334126 103.487592 \r\nL 265.388113 95.610846 \r\nL 267.442101 91.684047 \r\nL 269.496089 91.737008 \r\nL 271.550077 96.097662 \r\nL 273.604064 98.24695 \r\nL 275.658052 98.49141 \r\nL 277.71204 96.826133 \r\nL 279.766028 97.043938 \r\nL 281.820015 95.31132 \r\nL 283.874003 99.83226 \r\nL 285.927991 104.935064 \r\nL 287.981979 108.473953 \r\nL 290.035966 113.422435 \r\nL 292.089954 125.234749 \r\nL 294.143942 127.352821 \r\nL 296.197929 133.892576 \r\nL 298.251917 112.928604 \r\nL 300.305905 104.891924 \r\nL 302.359893 105.174965 \r\nL 304.41388 98.496671 \r\nL 306.467868 99.565002 \r\nL 308.521856 112.842675 \r\nL 310.575844 114.453939 \r\nL 312.629831 122.560415 \r\nL 314.683819 129.672214 \r\nL 316.737807 143.935795 \r\nL 318.791794 143.85197 \r\nL 320.845782 149.55628 \r\nL 322.89977 145.900247 \r\nL 324.953758 149.445449 \r\nL 327.007745 150.974992 \r\nL 329.061733 154.083533 \r\nL 331.115721 157.594363 \r\nL 333.169709 154.387267 \r\nL 335.223696 156.974619 \r\nL 337.277684 155.281284 \r\nL 339.331672 157.006185 \r\nL 341.38566 161.187966 \r\nL 343.439647 160.460197 \r\nL 345.493635 167.292813 \r\nL 347.547623 159.598448 \r\nL 349.60161 160.070884 \r\nL 351.655598 159.979694 \r\nL 353.709586 157.159806 \r\nL 355.763574 153.832759 \r\nL 357.817561 151.333441 \r\nL 359.871549 149.416338 \r\nL 361.925537 150.685288 \r\nL 363.979525 149.447904 \r\nL 366.033512 148.035154 \r\nL 368.0875 149.284463 \r\nL 368.0875 149.284463 \r\n\" style=\"fill:none;stroke:#1f77b4;stroke-linecap:square;stroke-width:1.5;\"/>\r\n   </g>\r\n   <g id=\"line2d_41\">\r\n    <path clip-path=\"url(#pdafdf30da4)\" d=\"M 33.2875 214.580997 \r\nL 35.341488 214.125045 \r\nL 37.395475 213.809386 \r\nL 39.449463 213.84446 \r\nL 47.665414 214.756364 \r\nL 49.719402 214.580997 \r\nL 51.77339 214.616071 \r\nL 53.827377 213.809386 \r\nL 59.98934 212.862409 \r\nL 62.043328 212.336311 \r\nL 64.097316 212.055725 \r\nL 66.151304 211.424407 \r\nL 68.205291 211.319187 \r\nL 76.421242 210.231917 \r\nL 78.47523 208.899134 \r\nL 82.583206 206.724594 \r\nL 90.799156 201.744195 \r\nL 92.853144 202.34044 \r\nL 94.907132 202.270294 \r\nL 96.96112 202.059854 \r\nL 103.123083 200.902438 \r\nL 105.177071 201.779268 \r\nL 107.231058 201.989708 \r\nL 109.285046 202.410586 \r\nL 111.339034 201.218097 \r\nL 117.500997 200.341266 \r\nL 119.554985 200.341266 \r\nL 121.608972 198.86819 \r\nL 123.66296 198.131652 \r\nL 125.716948 198.236872 \r\nL 131.878911 197.289895 \r\nL 133.932899 195.536233 \r\nL 135.986887 195.676526 \r\nL 138.040874 193.922865 \r\nL 140.094862 193.537059 \r\nL 146.256825 193.677352 \r\nL 148.310813 194.063158 \r\nL 150.364801 193.291547 \r\nL 152.418788 192.379643 \r\nL 154.472776 190.731201 \r\nL 160.634739 189.012612 \r\nL 162.688727 189.047686 \r\nL 164.742715 190.134956 \r\nL 166.796702 190.731201 \r\nL 168.85069 193.572132 \r\nL 175.012653 197.044382 \r\nL 177.066641 196.728723 \r\nL 179.120629 195.536233 \r\nL 181.174617 197.851067 \r\nL 183.228604 195.641453 \r\nL 189.390567 192.449789 \r\nL 191.444555 192.555009 \r\nL 193.498543 192.905741 \r\nL 195.552531 191.923691 \r\nL 197.606518 193.396766 \r\nL 203.768482 191.537885 \r\nL 205.822469 190.275249 \r\nL 207.876457 188.7671 \r\nL 209.930445 187.644756 \r\nL 211.984433 186.38212 \r\nL 220.200383 182.313625 \r\nL 222.254371 180.73533 \r\nL 224.308359 176.105664 \r\nL 226.362347 173.720684 \r\nL 232.52431 162.532323 \r\nL 234.578298 160.778662 \r\nL 236.632285 157.83251 \r\nL 238.686273 159.23544 \r\nL 240.740261 157.516851 \r\nL 242.794248 154.710993 \r\nL 244.848236 150.607425 \r\nL 246.902224 146.889663 \r\nL 248.956212 144.013658 \r\nL 251.010199 142.330143 \r\nL 253.064187 135.631156 \r\nL 255.118175 124.512941 \r\nL 257.172163 116.972197 \r\nL 259.22615 111.816432 \r\nL 261.280138 108.905354 \r\nL 263.334126 100.978804 \r\nL 265.388113 93.964158 \r\nL 267.442101 88.036782 \r\nL 269.496089 87.054731 \r\nL 271.550077 84.00336 \r\nL 273.604064 79.689353 \r\nL 277.71204 66.501818 \r\nL 279.766028 58.575268 \r\nL 281.820015 60.609515 \r\nL 283.874003 64.151912 \r\nL 285.927991 62.082591 \r\nL 287.981979 63.240008 \r\nL 290.035966 65.063816 \r\nL 292.089954 57.207412 \r\nL 294.143942 58.014096 \r\nL 296.197929 45.703392 \r\nL 298.251917 31.849466 \r\nL 300.305905 30.551757 \r\nL 302.359893 17.153783 \r\nL 304.41388 17.083636 \r\nL 306.467868 27.079507 \r\nL 308.521856 23.712477 \r\nL 312.629831 37.53133 \r\nL 314.683819 41.143873 \r\nL 316.737807 51.034524 \r\nL 318.791794 49.245789 \r\nL 320.845782 52.40238 \r\nL 322.89977 59.943124 \r\nL 324.953758 58.890927 \r\nL 327.007745 57.979023 \r\nL 329.061733 56.190288 \r\nL 331.115721 57.487998 \r\nL 333.169709 53.559796 \r\nL 335.223696 55.173165 \r\nL 337.277684 54.436627 \r\nL 339.331672 56.190288 \r\nL 341.38566 60.153563 \r\nL 343.439647 61.766932 \r\nL 345.493635 68.886798 \r\nL 347.547623 76.953641 \r\nL 349.60161 79.65428 \r\nL 351.655598 83.968287 \r\nL 353.709586 87.159951 \r\nL 355.763574 91.088153 \r\nL 357.817561 98.278165 \r\nL 359.871549 100.452705 \r\nL 361.925537 103.53915 \r\nL 363.979525 105.678617 \r\nL 366.033512 106.80096 \r\nL 368.0875 103.013051 \r\nL 368.0875 103.013051 \r\n\" style=\"fill:none;stroke:#ff7f0e;stroke-linecap:square;stroke-width:1.5;\"/>\r\n   </g>\r\n   <g id=\"patch_3\">\r\n    <path d=\"M 33.2875 224.64 \r\nL 33.2875 7.2 \r\n\" style=\"fill:none;stroke:#000000;stroke-linecap:square;stroke-linejoin:miter;stroke-width:0.8;\"/>\r\n   </g>\r\n   <g id=\"patch_4\">\r\n    <path d=\"M 368.0875 224.64 \r\nL 368.0875 7.2 \r\n\" style=\"fill:none;stroke:#000000;stroke-linecap:square;stroke-linejoin:miter;stroke-width:0.8;\"/>\r\n   </g>\r\n   <g id=\"patch_5\">\r\n    <path d=\"M 33.2875 224.64 \r\nL 368.0875 224.64 \r\n\" style=\"fill:none;stroke:#000000;stroke-linecap:square;stroke-linejoin:miter;stroke-width:0.8;\"/>\r\n   </g>\r\n   <g id=\"patch_6\">\r\n    <path d=\"M 33.2875 7.2 \r\nL 368.0875 7.2 \r\n\" style=\"fill:none;stroke:#000000;stroke-linecap:square;stroke-linejoin:miter;stroke-width:0.8;\"/>\r\n   </g>\r\n   <g id=\"legend_1\">\r\n    <g id=\"patch_7\">\r\n     <path d=\"M 40.2875 44.834375 \r\nL 163.95 44.834375 \r\nQ 165.95 44.834375 165.95 42.834375 \r\nL 165.95 14.2 \r\nQ 165.95 12.2 163.95 12.2 \r\nL 40.2875 12.2 \r\nQ 38.2875 12.2 38.2875 14.2 \r\nL 38.2875 42.834375 \r\nQ 38.2875 44.834375 40.2875 44.834375 \r\nz\r\n\" style=\"fill:#ffffff;opacity:0.8;stroke:#cccccc;stroke-linejoin:miter;\"/>\r\n    </g>\r\n    <g id=\"line2d_42\">\r\n     <path d=\"M 42.2875 20.298437 \r\nL 62.2875 20.298437 \r\n\" style=\"fill:none;stroke:#1f77b4;stroke-linecap:square;stroke-width:1.5;\"/>\r\n    </g>\r\n    <g id=\"line2d_43\"/>\r\n    <g id=\"text_15\">\r\n     <!-- modelled -->\r\n     <g transform=\"translate(70.2875 23.798437)scale(0.1 -0.1)\">\r\n      <defs>\r\n       <path d=\"M 52 44.1875 \r\nQ 55.375 50.25 60.0625 53.125 \r\nQ 64.75 56 71.09375 56 \r\nQ 79.640625 56 84.28125 50.015625 \r\nQ 88.921875 44.046875 88.921875 33.015625 \r\nL 88.921875 0 \r\nL 79.890625 0 \r\nL 79.890625 32.71875 \r\nQ 79.890625 40.578125 77.09375 44.375 \r\nQ 74.3125 48.1875 68.609375 48.1875 \r\nQ 61.625 48.1875 57.5625 43.546875 \r\nQ 53.515625 38.921875 53.515625 30.90625 \r\nL 53.515625 0 \r\nL 44.484375 0 \r\nL 44.484375 32.71875 \r\nQ 44.484375 40.625 41.703125 44.40625 \r\nQ 38.921875 48.1875 33.109375 48.1875 \r\nQ 26.21875 48.1875 22.15625 43.53125 \r\nQ 18.109375 38.875 18.109375 30.90625 \r\nL 18.109375 0 \r\nL 9.078125 0 \r\nL 9.078125 54.6875 \r\nL 18.109375 54.6875 \r\nL 18.109375 46.1875 \r\nQ 21.1875 51.21875 25.484375 53.609375 \r\nQ 29.78125 56 35.6875 56 \r\nQ 41.65625 56 45.828125 52.96875 \r\nQ 50 49.953125 52 44.1875 \r\nz\r\n\" id=\"DejaVuSans-109\"/>\r\n       <path d=\"M 45.40625 46.390625 \r\nL 45.40625 75.984375 \r\nL 54.390625 75.984375 \r\nL 54.390625 0 \r\nL 45.40625 0 \r\nL 45.40625 8.203125 \r\nQ 42.578125 3.328125 38.25 0.953125 \r\nQ 33.9375 -1.421875 27.875 -1.421875 \r\nQ 17.96875 -1.421875 11.734375 6.484375 \r\nQ 5.515625 14.40625 5.515625 27.296875 \r\nQ 5.515625 40.1875 11.734375 48.09375 \r\nQ 17.96875 56 27.875 56 \r\nQ 33.9375 56 38.25 53.625 \r\nQ 42.578125 51.265625 45.40625 46.390625 \r\nz\r\nM 14.796875 27.296875 \r\nQ 14.796875 17.390625 18.875 11.75 \r\nQ 22.953125 6.109375 30.078125 6.109375 \r\nQ 37.203125 6.109375 41.296875 11.75 \r\nQ 45.40625 17.390625 45.40625 27.296875 \r\nQ 45.40625 37.203125 41.296875 42.84375 \r\nQ 37.203125 48.484375 30.078125 48.484375 \r\nQ 22.953125 48.484375 18.875 42.84375 \r\nQ 14.796875 37.203125 14.796875 27.296875 \r\nz\r\n\" id=\"DejaVuSans-100\"/>\r\n       <path d=\"M 9.421875 75.984375 \r\nL 18.40625 75.984375 \r\nL 18.40625 0 \r\nL 9.421875 0 \r\nz\r\n\" id=\"DejaVuSans-108\"/>\r\n      </defs>\r\n      <use xlink:href=\"#DejaVuSans-109\"/>\r\n      <use x=\"97.412109\" xlink:href=\"#DejaVuSans-111\"/>\r\n      <use x=\"158.59375\" xlink:href=\"#DejaVuSans-100\"/>\r\n      <use x=\"222.070312\" xlink:href=\"#DejaVuSans-101\"/>\r\n      <use x=\"283.59375\" xlink:href=\"#DejaVuSans-108\"/>\r\n      <use x=\"311.376953\" xlink:href=\"#DejaVuSans-108\"/>\r\n      <use x=\"339.160156\" xlink:href=\"#DejaVuSans-101\"/>\r\n      <use x=\"400.683594\" xlink:href=\"#DejaVuSans-100\"/>\r\n     </g>\r\n    </g>\r\n    <g id=\"line2d_44\">\r\n     <path d=\"M 42.2875 34.976562 \r\nL 62.2875 34.976562 \r\n\" style=\"fill:none;stroke:#ff7f0e;stroke-linecap:square;stroke-width:1.5;\"/>\r\n    </g>\r\n    <g id=\"line2d_45\"/>\r\n    <g id=\"text_16\">\r\n     <!-- daily_case_7mean -->\r\n     <g transform=\"translate(70.2875 38.476562)scale(0.1 -0.1)\">\r\n      <defs>\r\n       <path d=\"M 34.28125 27.484375 \r\nQ 23.390625 27.484375 19.1875 25 \r\nQ 14.984375 22.515625 14.984375 16.5 \r\nQ 14.984375 11.71875 18.140625 8.90625 \r\nQ 21.296875 6.109375 26.703125 6.109375 \r\nQ 34.1875 6.109375 38.703125 11.40625 \r\nQ 43.21875 16.703125 43.21875 25.484375 \r\nL 43.21875 27.484375 \r\nz\r\nM 52.203125 31.203125 \r\nL 52.203125 0 \r\nL 43.21875 0 \r\nL 43.21875 8.296875 \r\nQ 40.140625 3.328125 35.546875 0.953125 \r\nQ 30.953125 -1.421875 24.3125 -1.421875 \r\nQ 15.921875 -1.421875 10.953125 3.296875 \r\nQ 6 8.015625 6 15.921875 \r\nQ 6 25.140625 12.171875 29.828125 \r\nQ 18.359375 34.515625 30.609375 34.515625 \r\nL 43.21875 34.515625 \r\nL 43.21875 35.40625 \r\nQ 43.21875 41.609375 39.140625 45 \r\nQ 35.0625 48.390625 27.6875 48.390625 \r\nQ 23 48.390625 18.546875 47.265625 \r\nQ 14.109375 46.140625 10.015625 43.890625 \r\nL 10.015625 52.203125 \r\nQ 14.9375 54.109375 19.578125 55.046875 \r\nQ 24.21875 56 28.609375 56 \r\nQ 40.484375 56 46.34375 49.84375 \r\nQ 52.203125 43.703125 52.203125 31.203125 \r\nz\r\n\" id=\"DejaVuSans-97\"/>\r\n       <path d=\"M 9.421875 54.6875 \r\nL 18.40625 54.6875 \r\nL 18.40625 0 \r\nL 9.421875 0 \r\nz\r\nM 9.421875 75.984375 \r\nL 18.40625 75.984375 \r\nL 18.40625 64.59375 \r\nL 9.421875 64.59375 \r\nz\r\n\" id=\"DejaVuSans-105\"/>\r\n       <path d=\"M 32.171875 -5.078125 \r\nQ 28.375 -14.84375 24.75 -17.8125 \r\nQ 21.140625 -20.796875 15.09375 -20.796875 \r\nL 7.90625 -20.796875 \r\nL 7.90625 -13.28125 \r\nL 13.1875 -13.28125 \r\nQ 16.890625 -13.28125 18.9375 -11.515625 \r\nQ 21 -9.765625 23.484375 -3.21875 \r\nL 25.09375 0.875 \r\nL 2.984375 54.6875 \r\nL 12.5 54.6875 \r\nL 29.59375 11.921875 \r\nL 46.6875 54.6875 \r\nL 56.203125 54.6875 \r\nz\r\n\" id=\"DejaVuSans-121\"/>\r\n       <path d=\"M 50.984375 -16.609375 \r\nL 50.984375 -23.578125 \r\nL -0.984375 -23.578125 \r\nL -0.984375 -16.609375 \r\nz\r\n\" id=\"DejaVuSans-95\"/>\r\n       <path d=\"M 44.28125 53.078125 \r\nL 44.28125 44.578125 \r\nQ 40.484375 46.53125 36.375 47.5 \r\nQ 32.28125 48.484375 27.875 48.484375 \r\nQ 21.1875 48.484375 17.84375 46.4375 \r\nQ 14.5 44.390625 14.5 40.28125 \r\nQ 14.5 37.15625 16.890625 35.375 \r\nQ 19.28125 33.59375 26.515625 31.984375 \r\nL 29.59375 31.296875 \r\nQ 39.15625 29.25 43.1875 25.515625 \r\nQ 47.21875 21.78125 47.21875 15.09375 \r\nQ 47.21875 7.46875 41.1875 3.015625 \r\nQ 35.15625 -1.421875 24.609375 -1.421875 \r\nQ 20.21875 -1.421875 15.453125 -0.5625 \r\nQ 10.6875 0.296875 5.421875 2 \r\nL 5.421875 11.28125 \r\nQ 10.40625 8.6875 15.234375 7.390625 \r\nQ 20.0625 6.109375 24.8125 6.109375 \r\nQ 31.15625 6.109375 34.5625 8.28125 \r\nQ 37.984375 10.453125 37.984375 14.40625 \r\nQ 37.984375 18.0625 35.515625 20.015625 \r\nQ 33.0625 21.96875 24.703125 23.78125 \r\nL 21.578125 24.515625 \r\nQ 13.234375 26.265625 9.515625 29.90625 \r\nQ 5.8125 33.546875 5.8125 39.890625 \r\nQ 5.8125 47.609375 11.28125 51.796875 \r\nQ 16.75 56 26.8125 56 \r\nQ 31.78125 56 36.171875 55.265625 \r\nQ 40.578125 54.546875 44.28125 53.078125 \r\nz\r\n\" id=\"DejaVuSans-115\"/>\r\n       <path d=\"M 54.890625 33.015625 \r\nL 54.890625 0 \r\nL 45.90625 0 \r\nL 45.90625 32.71875 \r\nQ 45.90625 40.484375 42.875 44.328125 \r\nQ 39.84375 48.1875 33.796875 48.1875 \r\nQ 26.515625 48.1875 22.3125 43.546875 \r\nQ 18.109375 38.921875 18.109375 30.90625 \r\nL 18.109375 0 \r\nL 9.078125 0 \r\nL 9.078125 54.6875 \r\nL 18.109375 54.6875 \r\nL 18.109375 46.1875 \r\nQ 21.34375 51.125 25.703125 53.5625 \r\nQ 30.078125 56 35.796875 56 \r\nQ 45.21875 56 50.046875 50.171875 \r\nQ 54.890625 44.34375 54.890625 33.015625 \r\nz\r\n\" id=\"DejaVuSans-110\"/>\r\n      </defs>\r\n      <use xlink:href=\"#DejaVuSans-100\"/>\r\n      <use x=\"63.476562\" xlink:href=\"#DejaVuSans-97\"/>\r\n      <use x=\"124.755859\" xlink:href=\"#DejaVuSans-105\"/>\r\n      <use x=\"152.539062\" xlink:href=\"#DejaVuSans-108\"/>\r\n      <use x=\"180.322266\" xlink:href=\"#DejaVuSans-121\"/>\r\n      <use x=\"239.501953\" xlink:href=\"#DejaVuSans-95\"/>\r\n      <use x=\"289.501953\" xlink:href=\"#DejaVuSans-99\"/>\r\n      <use x=\"344.482422\" xlink:href=\"#DejaVuSans-97\"/>\r\n      <use x=\"405.761719\" xlink:href=\"#DejaVuSans-115\"/>\r\n      <use x=\"457.861328\" xlink:href=\"#DejaVuSans-101\"/>\r\n      <use x=\"519.384766\" xlink:href=\"#DejaVuSans-95\"/>\r\n      <use x=\"569.384766\" xlink:href=\"#DejaVuSans-55\"/>\r\n      <use x=\"633.007812\" xlink:href=\"#DejaVuSans-109\"/>\r\n      <use x=\"730.419922\" xlink:href=\"#DejaVuSans-101\"/>\r\n      <use x=\"791.943359\" xlink:href=\"#DejaVuSans-97\"/>\r\n      <use x=\"853.222656\" xlink:href=\"#DejaVuSans-110\"/>\r\n     </g>\r\n    </g>\r\n   </g>\r\n  </g>\r\n </g>\r\n <defs>\r\n  <clipPath id=\"pdafdf30da4\">\r\n   <rect height=\"217.44\" width=\"334.8\" x=\"33.2875\" y=\"7.2\"/>\r\n  </clipPath>\r\n </defs>\r\n</svg>\r\n",
      "image/png": "[encoded data removed]"
     },
     "metadata": {
      "needs_background": "light"
     }
    }
   ],
   "source": [
    "result_df.plot()"
   ]
  },
  {
   "cell_type": "code",
   "execution_count": 112,
   "metadata": {},
   "outputs": [],
   "source": [
    "def performance(name, observed, modelled):\n",
    "    output_RMSE = (metrics.mean_squared_error(observed, modelled))**(0.5)\n",
    "    output_MAE = metrics.mean_absolute_error(observed, modelled)\n",
    "    output_r2 = metrics.r2_score(observed, modelled)\n",
    "    \n",
    "    combine = [output_RMSE, output_MAE, output_r2]\n",
    "        \n",
    "    df = pd.DataFrame({name:combine}, index=['RMSE', 'MAE', 'R2'])\n",
    "\n",
    "    return df"
   ]
  },
  {
   "cell_type": "code",
   "execution_count": 113,
   "metadata": {},
   "outputs": [],
   "source": [
    "def modelling(train_x, train_y, test_x, test_y, model_type, name):\n",
    "    if model_type == \"lm\":\n",
    "        model = linear_model.LinearRegression()\n",
    "    elif model_type == \"rf\":\n",
    "        model = RandomForestRegressor()\n",
    "    elif model_type == \"gb\":\n",
    "        model = GradientBoostingRegressor()\n",
    "        \n",
    "    model.fit(train_x, train_y)\n",
    "    train_score = performance((name + \" train\"), train_y, model.predict(train_x))\n",
    "    test_score = performance((name + \" test\"), test_y, model.predict(test_x))\n",
    "\n",
    "    return train_score, test_score, model"
   ]
  },
  {
   "cell_type": "code",
   "execution_count": 114,
   "metadata": {},
   "outputs": [
    {
     "output_type": "execute_result",
     "data": {
      "text/plain": [
       "      test train   test test\n",
       "RMSE    3.711870  307.796955\n",
       "MAE     1.978670  288.853869\n",
       "R2      0.998978   -9.857454"
      ],
      "text/html": "<div>\n<style scoped>\n    .dataframe tbody tr th:only-of-type {\n        vertical-align: middle;\n    }\n\n    .dataframe tbody tr th {\n        vertical-align: top;\n    }\n\n    .dataframe thead th {\n        text-align: right;\n    }\n</style>\n<table border=\"1\" class=\"dataframe\">\n  <thead>\n    <tr style=\"text-align: right;\">\n      <th></th>\n      <th>test train</th>\n      <th>test test</th>\n    </tr>\n  </thead>\n  <tbody>\n    <tr>\n      <th>RMSE</th>\n      <td>3.711870</td>\n      <td>307.796955</td>\n    </tr>\n    <tr>\n      <th>MAE</th>\n      <td>1.978670</td>\n      <td>288.853869</td>\n    </tr>\n    <tr>\n      <th>R2</th>\n      <td>0.998978</td>\n      <td>-9.857454</td>\n    </tr>\n  </tbody>\n</table>\n</div>"
     },
     "metadata": {},
     "execution_count": 114
    }
   ],
   "source": [
    "rf_tr_score, rf_te_score, rf_test = modelling(X_train, y_train, X_test, y_test, \"rf\", 'test')\n",
    "rf_3_fit = pd.concat([rf_tr_score, rf_te_score], axis= 1)\n",
    "rf_3_fit"
   ]
  }
 ]
}