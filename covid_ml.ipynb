{
 "metadata": {
  "language_info": {
   "codemirror_mode": {
    "name": "ipython",
    "version": 3
   },
   "file_extension": ".py",
   "mimetype": "text/x-python",
   "name": "python",
   "nbconvert_exporter": "python",
   "pygments_lexer": "ipython3",
   "version": "3.8.6-final"
  },
  "orig_nbformat": 2,
  "kernelspec": {
   "name": "python3",
   "display_name": "Python 3",
   "language": "python"
  }
 },
 "nbformat": 4,
 "nbformat_minor": 2,
 "cells": [
  {
   "cell_type": "code",
   "execution_count": 1,
   "metadata": {},
   "outputs": [],
   "source": [
    "import pandas as pd\n",
    "import numpy as np\n",
    "import matplotlib.pyplot as plt\n",
    "import tsfresh\n",
    "\n",
    "%matplotlib inline"
   ]
  },
  {
   "cell_type": "code",
   "execution_count": 21,
   "metadata": {},
   "outputs": [],
   "source": [
    "from tsfresh.examples.robot_execution_failures import download_robot_execution_failures, \\\n",
    "    load_robot_execution_failures\n",
    "download_robot_execution_failures()\n",
    "timeseries, y = load_robot_execution_failures()"
   ]
  },
  {
   "cell_type": "code",
   "execution_count": 22,
   "metadata": {},
   "outputs": [
    {
     "output_type": "execute_result",
     "data": {
      "text/plain": [
       "      id  time  F_x  F_y  F_z  T_x  T_y  T_z\n",
       "0      1     0   -1   -1   63   -3   -1    0\n",
       "1      1     1    0    0   62   -3   -1    0\n",
       "2      1     2   -1   -1   61   -3    0    0\n",
       "3      1     3   -1   -1   63   -2   -1    0\n",
       "4      1     4   -1   -1   63   -3   -1    0\n",
       "...   ..   ...  ...  ...  ...  ...  ...  ...\n",
       "1315  88    10  -10    2   39  -21  -24    5\n",
       "1316  88    11  -11    2   38  -24  -22    6\n",
       "1317  88    12  -12    3   23  -24  -24    5\n",
       "1318  88    13  -13    4   26  -29  -27    5\n",
       "1319  88    14  -13    2   15  -25  -25    6\n",
       "\n",
       "[1320 rows x 8 columns]"
      ],
      "text/html": "<div>\n<style scoped>\n    .dataframe tbody tr th:only-of-type {\n        vertical-align: middle;\n    }\n\n    .dataframe tbody tr th {\n        vertical-align: top;\n    }\n\n    .dataframe thead th {\n        text-align: right;\n    }\n</style>\n<table border=\"1\" class=\"dataframe\">\n  <thead>\n    <tr style=\"text-align: right;\">\n      <th></th>\n      <th>id</th>\n      <th>time</th>\n      <th>F_x</th>\n      <th>F_y</th>\n      <th>F_z</th>\n      <th>T_x</th>\n      <th>T_y</th>\n      <th>T_z</th>\n    </tr>\n  </thead>\n  <tbody>\n    <tr>\n      <th>0</th>\n      <td>1</td>\n      <td>0</td>\n      <td>-1</td>\n      <td>-1</td>\n      <td>63</td>\n      <td>-3</td>\n      <td>-1</td>\n      <td>0</td>\n    </tr>\n    <tr>\n      <th>1</th>\n      <td>1</td>\n      <td>1</td>\n      <td>0</td>\n      <td>0</td>\n      <td>62</td>\n      <td>-3</td>\n      <td>-1</td>\n      <td>0</td>\n    </tr>\n    <tr>\n      <th>2</th>\n      <td>1</td>\n      <td>2</td>\n      <td>-1</td>\n      <td>-1</td>\n      <td>61</td>\n      <td>-3</td>\n      <td>0</td>\n      <td>0</td>\n    </tr>\n    <tr>\n      <th>3</th>\n      <td>1</td>\n      <td>3</td>\n      <td>-1</td>\n      <td>-1</td>\n      <td>63</td>\n      <td>-2</td>\n      <td>-1</td>\n      <td>0</td>\n    </tr>\n    <tr>\n      <th>4</th>\n      <td>1</td>\n      <td>4</td>\n      <td>-1</td>\n      <td>-1</td>\n      <td>63</td>\n      <td>-3</td>\n      <td>-1</td>\n      <td>0</td>\n    </tr>\n    <tr>\n      <th>...</th>\n      <td>...</td>\n      <td>...</td>\n      <td>...</td>\n      <td>...</td>\n      <td>...</td>\n      <td>...</td>\n      <td>...</td>\n      <td>...</td>\n    </tr>\n    <tr>\n      <th>1315</th>\n      <td>88</td>\n      <td>10</td>\n      <td>-10</td>\n      <td>2</td>\n      <td>39</td>\n      <td>-21</td>\n      <td>-24</td>\n      <td>5</td>\n    </tr>\n    <tr>\n      <th>1316</th>\n      <td>88</td>\n      <td>11</td>\n      <td>-11</td>\n      <td>2</td>\n      <td>38</td>\n      <td>-24</td>\n      <td>-22</td>\n      <td>6</td>\n    </tr>\n    <tr>\n      <th>1317</th>\n      <td>88</td>\n      <td>12</td>\n      <td>-12</td>\n      <td>3</td>\n      <td>23</td>\n      <td>-24</td>\n      <td>-24</td>\n      <td>5</td>\n    </tr>\n    <tr>\n      <th>1318</th>\n      <td>88</td>\n      <td>13</td>\n      <td>-13</td>\n      <td>4</td>\n      <td>26</td>\n      <td>-29</td>\n      <td>-27</td>\n      <td>5</td>\n    </tr>\n    <tr>\n      <th>1319</th>\n      <td>88</td>\n      <td>14</td>\n      <td>-13</td>\n      <td>2</td>\n      <td>15</td>\n      <td>-25</td>\n      <td>-25</td>\n      <td>6</td>\n    </tr>\n  </tbody>\n</table>\n<p>1320 rows × 8 columns</p>\n</div>"
     },
     "metadata": {},
     "execution_count": 22
    }
   ],
   "source": [
    "timeseries"
   ]
  },
  {
   "cell_type": "code",
   "execution_count": 23,
   "metadata": {},
   "outputs": [
    {
     "output_type": "stream",
     "name": "stderr",
     "text": [
      "Feature Extraction: 100%|██████████| 30/30 [00:06<00:00,  4.88it/s]\n"
     ]
    }
   ],
   "source": [
    "from tsfresh import extract_features\n",
    "extracted_features = extract_features(timeseries, column_id=\"id\", column_sort=\"time\")"
   ]
  },
  {
   "cell_type": "code",
   "execution_count": 24,
   "metadata": {},
   "outputs": [
    {
     "output_type": "execute_result",
     "data": {
      "text/plain": [
       "    F_x__variance_larger_than_standard_deviation  F_x__has_duplicate_max  \\\n",
       "1                                            0.0                     0.0   \n",
       "2                                            0.0                     1.0   \n",
       "3                                            0.0                     0.0   \n",
       "4                                            0.0                     1.0   \n",
       "5                                            0.0                     0.0   \n",
       "..                                           ...                     ...   \n",
       "84                                           1.0                     1.0   \n",
       "85                                           1.0                     0.0   \n",
       "86                                           1.0                     0.0   \n",
       "87                                           1.0                     1.0   \n",
       "88                                           1.0                     0.0   \n",
       "\n",
       "    F_x__has_duplicate_min  F_x__has_duplicate  F_x__sum_values  \\\n",
       "1                      1.0                 1.0            -14.0   \n",
       "2                      1.0                 1.0            -13.0   \n",
       "3                      1.0                 1.0            -10.0   \n",
       "4                      1.0                 1.0             -6.0   \n",
       "5                      0.0                 1.0             -9.0   \n",
       "..                     ...                 ...              ...   \n",
       "84                     0.0                 1.0          -1073.0   \n",
       "85                     1.0                 1.0            143.0   \n",
       "86                     0.0                 0.0            961.0   \n",
       "87                     0.0                 1.0           4509.0   \n",
       "88                     1.0                 1.0           -143.0   \n",
       "\n",
       "    F_x__abs_energy  F_x__mean_abs_change  F_x__mean_change  \\\n",
       "1              14.0              0.142857          0.000000   \n",
       "2              25.0              1.000000          0.000000   \n",
       "3              12.0              0.714286          0.000000   \n",
       "4              16.0              1.214286         -0.071429   \n",
       "5              17.0              0.928571         -0.071429   \n",
       "..              ...                   ...               ...   \n",
       "84          96833.0              7.142857         -5.428571   \n",
       "85           1683.0              1.357143          1.071429   \n",
       "86          83497.0              9.071429          9.071429   \n",
       "87        1405437.0             12.928571         12.214286   \n",
       "88           1427.0              0.785714         -0.500000   \n",
       "\n",
       "    F_x__mean_second_derivative_central  F_x__median  ...  \\\n",
       "1                             -0.038462         -1.0  ...   \n",
       "2                             -0.038462         -1.0  ...   \n",
       "3                             -0.038462         -1.0  ...   \n",
       "4                             -0.038462          0.0  ...   \n",
       "5                              0.038462         -1.0  ...   \n",
       "..                                  ...          ...  ...   \n",
       "84                            -0.038462        -98.0  ...   \n",
       "85                             0.076923          8.0  ...   \n",
       "86                             0.807692         52.0  ...   \n",
       "87                            -1.038462        338.0  ...   \n",
       "88                             0.038462         -9.0  ...   \n",
       "\n",
       "    T_z__fourier_entropy__bins_2  T_z__fourier_entropy__bins_3  \\\n",
       "1                            NaN                           NaN   \n",
       "2                       0.562335                      0.562335   \n",
       "3                       0.661563                      1.039721   \n",
       "4                       0.562335                      0.735622   \n",
       "5                       0.562335                      0.562335   \n",
       "..                           ...                           ...   \n",
       "84                      0.376770                      0.735622   \n",
       "85                      0.376770                      0.376770   \n",
       "86                      0.376770                      0.376770   \n",
       "87                      0.376770                      0.376770   \n",
       "88                      0.693147                      1.082196   \n",
       "\n",
       "    T_z__fourier_entropy__bins_5  T_z__fourier_entropy__bins_10  \\\n",
       "1                            NaN                            NaN   \n",
       "2                       1.073543                       1.494175   \n",
       "3                       1.386294                       1.732868   \n",
       "4                       1.073543                       1.494175   \n",
       "5                       0.900256                       1.320888   \n",
       "..                           ...                            ...   \n",
       "84                      0.735622                       0.735622   \n",
       "85                      0.735622                       0.735622   \n",
       "86                      0.735622                       1.073543   \n",
       "87                      0.735622                       0.735622   \n",
       "88                      1.255482                       1.494175   \n",
       "\n",
       "    T_z__fourier_entropy__bins_100  \\\n",
       "1                              NaN   \n",
       "2                         2.079442   \n",
       "3                         2.079442   \n",
       "4                         2.079442   \n",
       "5                         2.079442   \n",
       "..                             ...   \n",
       "84                        1.386294   \n",
       "85                        1.667462   \n",
       "86                        1.732868   \n",
       "87                        1.386294   \n",
       "88                        2.079442   \n",
       "\n",
       "    T_z__permutation_entropy__dimension_3__tau_1  \\\n",
       "1                                      -0.000000   \n",
       "2                                       0.937156   \n",
       "3                                       1.265857   \n",
       "4                                       1.156988   \n",
       "5                                       1.156988   \n",
       "..                                           ...   \n",
       "84                                      1.585771   \n",
       "85                                      1.332245   \n",
       "86                                      0.687092   \n",
       "87                                      0.535961   \n",
       "88                                      0.830518   \n",
       "\n",
       "    T_z__permutation_entropy__dimension_4__tau_1  \\\n",
       "1                                      -0.000000   \n",
       "2                                       1.234268   \n",
       "3                                       1.704551   \n",
       "4                                       1.907284   \n",
       "5                                       1.863680   \n",
       "..                                           ...   \n",
       "84                                      2.253858   \n",
       "85                                      1.589027   \n",
       "86                                      0.983088   \n",
       "87                                      0.836988   \n",
       "88                                      1.242453   \n",
       "\n",
       "    T_z__permutation_entropy__dimension_5__tau_1  \\\n",
       "1                                      -0.000000   \n",
       "2                                       1.540306   \n",
       "3                                       2.019815   \n",
       "4                                       2.397895   \n",
       "5                                       2.271869   \n",
       "..                                           ...   \n",
       "84                                      2.397895   \n",
       "85                                      1.893788   \n",
       "86                                      1.159589   \n",
       "87                                      1.159589   \n",
       "88                                      1.414279   \n",
       "\n",
       "    T_z__permutation_entropy__dimension_6__tau_1  \\\n",
       "1                                      -0.000000   \n",
       "2                                       1.748067   \n",
       "3                                       2.163956   \n",
       "4                                       2.302585   \n",
       "5                                       2.302585   \n",
       "..                                           ...   \n",
       "84                                      2.302585   \n",
       "85                                      2.163956   \n",
       "86                                      1.227529   \n",
       "87                                      1.497866   \n",
       "88                                      1.609438   \n",
       "\n",
       "    T_z__permutation_entropy__dimension_7__tau_1  \n",
       "1                                      -0.000000  \n",
       "2                                       1.831020  \n",
       "3                                       2.197225  \n",
       "4                                       2.197225  \n",
       "5                                       2.197225  \n",
       "..                                           ...  \n",
       "84                                      2.197225  \n",
       "85                                      2.197225  \n",
       "86                                      1.303092  \n",
       "87                                      1.581094  \n",
       "88                                      1.831020  \n",
       "\n",
       "[88 rows x 4674 columns]"
      ],
      "text/html": "<div>\n<style scoped>\n    .dataframe tbody tr th:only-of-type {\n        vertical-align: middle;\n    }\n\n    .dataframe tbody tr th {\n        vertical-align: top;\n    }\n\n    .dataframe thead th {\n        text-align: right;\n    }\n</style>\n<table border=\"1\" class=\"dataframe\">\n  <thead>\n    <tr style=\"text-align: right;\">\n      <th></th>\n      <th>F_x__variance_larger_than_standard_deviation</th>\n      <th>F_x__has_duplicate_max</th>\n      <th>F_x__has_duplicate_min</th>\n      <th>F_x__has_duplicate</th>\n      <th>F_x__sum_values</th>\n      <th>F_x__abs_energy</th>\n      <th>F_x__mean_abs_change</th>\n      <th>F_x__mean_change</th>\n      <th>F_x__mean_second_derivative_central</th>\n      <th>F_x__median</th>\n      <th>...</th>\n      <th>T_z__fourier_entropy__bins_2</th>\n      <th>T_z__fourier_entropy__bins_3</th>\n      <th>T_z__fourier_entropy__bins_5</th>\n      <th>T_z__fourier_entropy__bins_10</th>\n      <th>T_z__fourier_entropy__bins_100</th>\n      <th>T_z__permutation_entropy__dimension_3__tau_1</th>\n      <th>T_z__permutation_entropy__dimension_4__tau_1</th>\n      <th>T_z__permutation_entropy__dimension_5__tau_1</th>\n      <th>T_z__permutation_entropy__dimension_6__tau_1</th>\n      <th>T_z__permutation_entropy__dimension_7__tau_1</th>\n    </tr>\n  </thead>\n  <tbody>\n    <tr>\n      <th>1</th>\n      <td>0.0</td>\n      <td>0.0</td>\n      <td>1.0</td>\n      <td>1.0</td>\n      <td>-14.0</td>\n      <td>14.0</td>\n      <td>0.142857</td>\n      <td>0.000000</td>\n      <td>-0.038462</td>\n      <td>-1.0</td>\n      <td>...</td>\n      <td>NaN</td>\n      <td>NaN</td>\n      <td>NaN</td>\n      <td>NaN</td>\n      <td>NaN</td>\n      <td>-0.000000</td>\n      <td>-0.000000</td>\n      <td>-0.000000</td>\n      <td>-0.000000</td>\n      <td>-0.000000</td>\n    </tr>\n    <tr>\n      <th>2</th>\n      <td>0.0</td>\n      <td>1.0</td>\n      <td>1.0</td>\n      <td>1.0</td>\n      <td>-13.0</td>\n      <td>25.0</td>\n      <td>1.000000</td>\n      <td>0.000000</td>\n      <td>-0.038462</td>\n      <td>-1.0</td>\n      <td>...</td>\n      <td>0.562335</td>\n      <td>0.562335</td>\n      <td>1.073543</td>\n      <td>1.494175</td>\n      <td>2.079442</td>\n      <td>0.937156</td>\n      <td>1.234268</td>\n      <td>1.540306</td>\n      <td>1.748067</td>\n      <td>1.831020</td>\n    </tr>\n    <tr>\n      <th>3</th>\n      <td>0.0</td>\n      <td>0.0</td>\n      <td>1.0</td>\n      <td>1.0</td>\n      <td>-10.0</td>\n      <td>12.0</td>\n      <td>0.714286</td>\n      <td>0.000000</td>\n      <td>-0.038462</td>\n      <td>-1.0</td>\n      <td>...</td>\n      <td>0.661563</td>\n      <td>1.039721</td>\n      <td>1.386294</td>\n      <td>1.732868</td>\n      <td>2.079442</td>\n      <td>1.265857</td>\n      <td>1.704551</td>\n      <td>2.019815</td>\n      <td>2.163956</td>\n      <td>2.197225</td>\n    </tr>\n    <tr>\n      <th>4</th>\n      <td>0.0</td>\n      <td>1.0</td>\n      <td>1.0</td>\n      <td>1.0</td>\n      <td>-6.0</td>\n      <td>16.0</td>\n      <td>1.214286</td>\n      <td>-0.071429</td>\n      <td>-0.038462</td>\n      <td>0.0</td>\n      <td>...</td>\n      <td>0.562335</td>\n      <td>0.735622</td>\n      <td>1.073543</td>\n      <td>1.494175</td>\n      <td>2.079442</td>\n      <td>1.156988</td>\n      <td>1.907284</td>\n      <td>2.397895</td>\n      <td>2.302585</td>\n      <td>2.197225</td>\n    </tr>\n    <tr>\n      <th>5</th>\n      <td>0.0</td>\n      <td>0.0</td>\n      <td>0.0</td>\n      <td>1.0</td>\n      <td>-9.0</td>\n      <td>17.0</td>\n      <td>0.928571</td>\n      <td>-0.071429</td>\n      <td>0.038462</td>\n      <td>-1.0</td>\n      <td>...</td>\n      <td>0.562335</td>\n      <td>0.562335</td>\n      <td>0.900256</td>\n      <td>1.320888</td>\n      <td>2.079442</td>\n      <td>1.156988</td>\n      <td>1.863680</td>\n      <td>2.271869</td>\n      <td>2.302585</td>\n      <td>2.197225</td>\n    </tr>\n    <tr>\n      <th>...</th>\n      <td>...</td>\n      <td>...</td>\n      <td>...</td>\n      <td>...</td>\n      <td>...</td>\n      <td>...</td>\n      <td>...</td>\n      <td>...</td>\n      <td>...</td>\n      <td>...</td>\n      <td>...</td>\n      <td>...</td>\n      <td>...</td>\n      <td>...</td>\n      <td>...</td>\n      <td>...</td>\n      <td>...</td>\n      <td>...</td>\n      <td>...</td>\n      <td>...</td>\n      <td>...</td>\n    </tr>\n    <tr>\n      <th>84</th>\n      <td>1.0</td>\n      <td>1.0</td>\n      <td>0.0</td>\n      <td>1.0</td>\n      <td>-1073.0</td>\n      <td>96833.0</td>\n      <td>7.142857</td>\n      <td>-5.428571</td>\n      <td>-0.038462</td>\n      <td>-98.0</td>\n      <td>...</td>\n      <td>0.376770</td>\n      <td>0.735622</td>\n      <td>0.735622</td>\n      <td>0.735622</td>\n      <td>1.386294</td>\n      <td>1.585771</td>\n      <td>2.253858</td>\n      <td>2.397895</td>\n      <td>2.302585</td>\n      <td>2.197225</td>\n    </tr>\n    <tr>\n      <th>85</th>\n      <td>1.0</td>\n      <td>0.0</td>\n      <td>1.0</td>\n      <td>1.0</td>\n      <td>143.0</td>\n      <td>1683.0</td>\n      <td>1.357143</td>\n      <td>1.071429</td>\n      <td>0.076923</td>\n      <td>8.0</td>\n      <td>...</td>\n      <td>0.376770</td>\n      <td>0.376770</td>\n      <td>0.735622</td>\n      <td>0.735622</td>\n      <td>1.667462</td>\n      <td>1.332245</td>\n      <td>1.589027</td>\n      <td>1.893788</td>\n      <td>2.163956</td>\n      <td>2.197225</td>\n    </tr>\n    <tr>\n      <th>86</th>\n      <td>1.0</td>\n      <td>0.0</td>\n      <td>0.0</td>\n      <td>0.0</td>\n      <td>961.0</td>\n      <td>83497.0</td>\n      <td>9.071429</td>\n      <td>9.071429</td>\n      <td>0.807692</td>\n      <td>52.0</td>\n      <td>...</td>\n      <td>0.376770</td>\n      <td>0.376770</td>\n      <td>0.735622</td>\n      <td>1.073543</td>\n      <td>1.732868</td>\n      <td>0.687092</td>\n      <td>0.983088</td>\n      <td>1.159589</td>\n      <td>1.227529</td>\n      <td>1.303092</td>\n    </tr>\n    <tr>\n      <th>87</th>\n      <td>1.0</td>\n      <td>1.0</td>\n      <td>0.0</td>\n      <td>1.0</td>\n      <td>4509.0</td>\n      <td>1405437.0</td>\n      <td>12.928571</td>\n      <td>12.214286</td>\n      <td>-1.038462</td>\n      <td>338.0</td>\n      <td>...</td>\n      <td>0.376770</td>\n      <td>0.376770</td>\n      <td>0.735622</td>\n      <td>0.735622</td>\n      <td>1.386294</td>\n      <td>0.535961</td>\n      <td>0.836988</td>\n      <td>1.159589</td>\n      <td>1.497866</td>\n      <td>1.581094</td>\n    </tr>\n    <tr>\n      <th>88</th>\n      <td>1.0</td>\n      <td>0.0</td>\n      <td>1.0</td>\n      <td>1.0</td>\n      <td>-143.0</td>\n      <td>1427.0</td>\n      <td>0.785714</td>\n      <td>-0.500000</td>\n      <td>0.038462</td>\n      <td>-9.0</td>\n      <td>...</td>\n      <td>0.693147</td>\n      <td>1.082196</td>\n      <td>1.255482</td>\n      <td>1.494175</td>\n      <td>2.079442</td>\n      <td>0.830518</td>\n      <td>1.242453</td>\n      <td>1.414279</td>\n      <td>1.609438</td>\n      <td>1.831020</td>\n    </tr>\n  </tbody>\n</table>\n<p>88 rows × 4674 columns</p>\n</div>"
     },
     "metadata": {},
     "execution_count": 24
    }
   ],
   "source": [
    "extracted_features"
   ]
  },
  {
   "cell_type": "code",
   "execution_count": 2,
   "metadata": {},
   "outputs": [],
   "source": [
    "# read dataframe from covid_explore.ipynb output\n",
    "covid = pd.read_csv(\"./data/covid/covid19_20210104_mod.csv\", index_col='date', parse_dates=True)\n",
    "# select columns of interest and remove all dates up to March 1\n",
    "# from the start of the pandemic in BC\n",
    "covid_mod = covid.loc['2020-07-01':,('days_elapse', 'new_count_update')].copy()\n",
    "#covid_mod.reset_index(inplace=True, drop=True)\n",
    "covid_mod.columns = ['days_elapse', 'daily_case']\n",
    "\n",
    "# add a 3, 5, 7 and 14-day rolling mean\n",
    "# also add a 14-day rolling std-dev in the event a 14-day standardization is used\n",
    "covid_mod['daily_case_3mean'] = covid_mod['daily_case'].rolling(window = 3).mean()\n",
    "covid_mod['daily_case_5mean'] = covid_mod['daily_case'].rolling(window = 5).mean()\n",
    "covid_mod['daily_case_7mean'] = covid_mod['daily_case'].rolling(window = 7).mean()\n",
    "covid_mod['daily_case_14mean'] = covid_mod['daily_case'].rolling(window = 14).mean()\n",
    "covid_mod['daily_case_14stdev'] = covid_mod['daily_case'].rolling(window = 14).std()"
   ]
  },
  {
   "cell_type": "code",
   "execution_count": 3,
   "metadata": {},
   "outputs": [],
   "source": [
    "covid_test = covid_mod[['daily_case_7mean']].dropna().copy()"
   ]
  },
  {
   "cell_type": "code",
   "execution_count": 46,
   "metadata": {},
   "outputs": [],
   "source": [
    "#covid_test['id'] = 1"
   ]
  },
  {
   "cell_type": "code",
   "execution_count": 50,
   "metadata": {},
   "outputs": [],
   "source": [
    "#covid_test.reset_index(inplace=True)"
   ]
  },
  {
   "cell_type": "code",
   "execution_count": 66,
   "metadata": {},
   "outputs": [
    {
     "output_type": "execute_result",
     "data": {
      "text/plain": [
       "            daily_case_7mean\n",
       "date                        \n",
       "2020-07-07         10.571429\n",
       "2020-07-08         11.428571\n",
       "2020-07-09         12.571429\n",
       "2020-07-10         15.142857\n",
       "2020-07-11         16.571429\n",
       "...                      ...\n",
       "2020-12-27        493.428571\n",
       "2020-12-28        480.857143\n",
       "2020-12-29        472.142857\n",
       "2020-12-30        467.571429\n",
       "2020-12-31        483.000000\n",
       "\n",
       "[178 rows x 1 columns]"
      ],
      "text/html": "<div>\n<style scoped>\n    .dataframe tbody tr th:only-of-type {\n        vertical-align: middle;\n    }\n\n    .dataframe tbody tr th {\n        vertical-align: top;\n    }\n\n    .dataframe thead th {\n        text-align: right;\n    }\n</style>\n<table border=\"1\" class=\"dataframe\">\n  <thead>\n    <tr style=\"text-align: right;\">\n      <th></th>\n      <th>daily_case_7mean</th>\n    </tr>\n    <tr>\n      <th>date</th>\n      <th></th>\n    </tr>\n  </thead>\n  <tbody>\n    <tr>\n      <th>2020-07-07</th>\n      <td>10.571429</td>\n    </tr>\n    <tr>\n      <th>2020-07-08</th>\n      <td>11.428571</td>\n    </tr>\n    <tr>\n      <th>2020-07-09</th>\n      <td>12.571429</td>\n    </tr>\n    <tr>\n      <th>2020-07-10</th>\n      <td>15.142857</td>\n    </tr>\n    <tr>\n      <th>2020-07-11</th>\n      <td>16.571429</td>\n    </tr>\n    <tr>\n      <th>...</th>\n      <td>...</td>\n    </tr>\n    <tr>\n      <th>2020-12-27</th>\n      <td>493.428571</td>\n    </tr>\n    <tr>\n      <th>2020-12-28</th>\n      <td>480.857143</td>\n    </tr>\n    <tr>\n      <th>2020-12-29</th>\n      <td>472.142857</td>\n    </tr>\n    <tr>\n      <th>2020-12-30</th>\n      <td>467.571429</td>\n    </tr>\n    <tr>\n      <th>2020-12-31</th>\n      <td>483.000000</td>\n    </tr>\n  </tbody>\n</table>\n<p>178 rows × 1 columns</p>\n</div>"
     },
     "metadata": {},
     "execution_count": 66
    }
   ],
   "source": [
    "covid_test"
   ]
  },
  {
   "cell_type": "code",
   "execution_count": 19,
   "metadata": {},
   "outputs": [
    {
     "output_type": "stream",
     "name": "stderr",
     "text": [
      "Feature Extraction: 100%|██████████| 1/1 [00:04<00:00,  4.50s/it]\n"
     ]
    }
   ],
   "source": [
    "extracted_features = extract_features(covid_test, column_id = 'id', column_sort = 'date', column_value = 'daily_case_7mean')"
   ]
  },
  {
   "cell_type": "code",
   "execution_count": 20,
   "metadata": {},
   "outputs": [
    {
     "output_type": "execute_result",
     "data": {
      "text/plain": [
       "   daily_case_7mean__variance_larger_than_standard_deviation  \\\n",
       "1                                                1.0           \n",
       "\n",
       "   daily_case_7mean__has_duplicate_max  daily_case_7mean__has_duplicate_min  \\\n",
       "1                                  0.0                                  0.0   \n",
       "\n",
       "   daily_case_7mean__has_duplicate  daily_case_7mean__sum_values  \\\n",
       "1                              1.0                  47512.285714   \n",
       "\n",
       "   daily_case_7mean__abs_energy  daily_case_7mean__mean_abs_change  \\\n",
       "1                  2.445600e+07                           8.661017   \n",
       "\n",
       "   daily_case_7mean__mean_change  \\\n",
       "1                       2.669088   \n",
       "\n",
       "   daily_case_7mean__mean_second_derivative_central  daily_case_7mean__median  \\\n",
       "1                                          0.041396                120.428571   \n",
       "\n",
       "   ...  daily_case_7mean__fourier_entropy__bins_2  \\\n",
       "1  ...                                   0.061047   \n",
       "\n",
       "   daily_case_7mean__fourier_entropy__bins_3  \\\n",
       "1                                   0.061047   \n",
       "\n",
       "   daily_case_7mean__fourier_entropy__bins_5  \\\n",
       "1                                   0.121969   \n",
       "\n",
       "   daily_case_7mean__fourier_entropy__bins_10  \\\n",
       "1                                    0.121969   \n",
       "\n",
       "   daily_case_7mean__fourier_entropy__bins_100  \\\n",
       "1                                     0.243433   \n",
       "\n",
       "   daily_case_7mean__permutation_entropy__dimension_3__tau_1  \\\n",
       "1                                           1.325435           \n",
       "\n",
       "   daily_case_7mean__permutation_entropy__dimension_4__tau_1  \\\n",
       "1                                            2.05376           \n",
       "\n",
       "   daily_case_7mean__permutation_entropy__dimension_5__tau_1  \\\n",
       "1                                           2.635926           \n",
       "\n",
       "   daily_case_7mean__permutation_entropy__dimension_6__tau_1  \\\n",
       "1                                           3.070739           \n",
       "\n",
       "   daily_case_7mean__permutation_entropy__dimension_7__tau_1  \n",
       "1                                           3.431099          \n",
       "\n",
       "[1 rows x 779 columns]"
      ],
      "text/html": "<div>\n<style scoped>\n    .dataframe tbody tr th:only-of-type {\n        vertical-align: middle;\n    }\n\n    .dataframe tbody tr th {\n        vertical-align: top;\n    }\n\n    .dataframe thead th {\n        text-align: right;\n    }\n</style>\n<table border=\"1\" class=\"dataframe\">\n  <thead>\n    <tr style=\"text-align: right;\">\n      <th></th>\n      <th>daily_case_7mean__variance_larger_than_standard_deviation</th>\n      <th>daily_case_7mean__has_duplicate_max</th>\n      <th>daily_case_7mean__has_duplicate_min</th>\n      <th>daily_case_7mean__has_duplicate</th>\n      <th>daily_case_7mean__sum_values</th>\n      <th>daily_case_7mean__abs_energy</th>\n      <th>daily_case_7mean__mean_abs_change</th>\n      <th>daily_case_7mean__mean_change</th>\n      <th>daily_case_7mean__mean_second_derivative_central</th>\n      <th>daily_case_7mean__median</th>\n      <th>...</th>\n      <th>daily_case_7mean__fourier_entropy__bins_2</th>\n      <th>daily_case_7mean__fourier_entropy__bins_3</th>\n      <th>daily_case_7mean__fourier_entropy__bins_5</th>\n      <th>daily_case_7mean__fourier_entropy__bins_10</th>\n      <th>daily_case_7mean__fourier_entropy__bins_100</th>\n      <th>daily_case_7mean__permutation_entropy__dimension_3__tau_1</th>\n      <th>daily_case_7mean__permutation_entropy__dimension_4__tau_1</th>\n      <th>daily_case_7mean__permutation_entropy__dimension_5__tau_1</th>\n      <th>daily_case_7mean__permutation_entropy__dimension_6__tau_1</th>\n      <th>daily_case_7mean__permutation_entropy__dimension_7__tau_1</th>\n    </tr>\n  </thead>\n  <tbody>\n    <tr>\n      <th>1</th>\n      <td>1.0</td>\n      <td>0.0</td>\n      <td>0.0</td>\n      <td>1.0</td>\n      <td>47512.285714</td>\n      <td>2.445600e+07</td>\n      <td>8.661017</td>\n      <td>2.669088</td>\n      <td>0.041396</td>\n      <td>120.428571</td>\n      <td>...</td>\n      <td>0.061047</td>\n      <td>0.061047</td>\n      <td>0.121969</td>\n      <td>0.121969</td>\n      <td>0.243433</td>\n      <td>1.325435</td>\n      <td>2.05376</td>\n      <td>2.635926</td>\n      <td>3.070739</td>\n      <td>3.431099</td>\n    </tr>\n  </tbody>\n</table>\n<p>1 rows × 779 columns</p>\n</div>"
     },
     "metadata": {},
     "execution_count": 20
    }
   ],
   "source": [
    "extracted_features"
   ]
  },
  {
   "cell_type": "code",
   "execution_count": 4,
   "metadata": {},
   "outputs": [],
   "source": [
    "test = pd.Series(covid_test['daily_case_7mean'], index = covid_test.index)"
   ]
  },
  {
   "cell_type": "code",
   "execution_count": 5,
   "metadata": {},
   "outputs": [
    {
     "output_type": "stream",
     "name": "stderr",
     "text": [
      "Rolling: 100%|██████████| 30/30 [00:02<00:00, 13.17it/s]\n",
      "Rolling: 100%|██████████| 30/30 [00:02<00:00, 13.23it/s]\n"
     ]
    }
   ],
   "source": [
    "df_rolled1 = tsfresh.utilities.dataframe_functions.make_forecasting_frame(test, kind=1, max_timeshift=14, rolling_direction=1)\r\n",
    "df_rolled2 = tsfresh.utilities.dataframe_functions.make_forecasting_frame(test, kind=1, max_timeshift=7, rolling_direction=1)"
   ]
  },
  {
   "cell_type": "code",
   "execution_count": 6,
   "metadata": {},
   "outputs": [],
   "source": [
    "df_rolled1_mod = df_rolled1[0].groupby('id').filter(lambda x: len(x) >= 14)\n",
    "df_rolled2_mod = df_rolled2[0].groupby('id').filter(lambda x: len(x) >= 7)"
   ]
  },
  {
   "cell_type": "code",
   "execution_count": 23,
   "metadata": {},
   "outputs": [
    {
     "output_type": "stream",
     "name": "stderr",
     "text": [
      "Feature Extraction: 100%|██████████| 28/28 [00:03<00:00,  7.50it/s]\n",
      "Feature Extraction: 100%|██████████| 29/29 [00:03<00:00,  7.95it/s]\n"
     ]
    }
   ],
   "source": [
    "extracted_features1 = tsfresh.extract_features(df_rolled1_mod, column_id = 'id', column_sort = 'time', column_value = 'value')\n",
    "extracted_features2 = tsfresh.extract_features(df_rolled2_mod, column_id = 'id', column_sort = 'time', column_value = 'value')"
   ]
  },
  {
   "cell_type": "code",
   "execution_count": 24,
   "metadata": {},
   "outputs": [],
   "source": [
    "extracted_features1 = extracted_features1.droplevel(0).add_suffix('_14')\n",
    "extracted_features2 = extracted_features2.droplevel(0).add_suffix('_7')"
   ]
  },
  {
   "cell_type": "code",
   "execution_count": 25,
   "metadata": {},
   "outputs": [],
   "source": [
    "extracted_features_combo = pd.concat([extracted_features1, extracted_features2], axis = 1, join='inner')"
   ]
  },
  {
   "cell_type": "code",
   "execution_count": 26,
   "metadata": {},
   "outputs": [
    {
     "output_type": "execute_result",
     "data": {
      "text/plain": [
       "            value__variance_larger_than_standard_deviation_14  \\\n",
       "2020-07-21                                                1.0   \n",
       "2020-07-22                                                1.0   \n",
       "2020-07-23                                                1.0   \n",
       "2020-07-24                                                1.0   \n",
       "2020-07-25                                                1.0   \n",
       "...                                                       ...   \n",
       "2020-12-27                                                1.0   \n",
       "2020-12-28                                                1.0   \n",
       "2020-12-29                                                1.0   \n",
       "2020-12-30                                                1.0   \n",
       "2020-12-31                                                1.0   \n",
       "\n",
       "            value__has_duplicate_max_14  value__has_duplicate_min_14  \\\n",
       "2020-07-21                          0.0                          0.0   \n",
       "2020-07-22                          0.0                          0.0   \n",
       "2020-07-23                          0.0                          0.0   \n",
       "2020-07-24                          0.0                          0.0   \n",
       "2020-07-25                          0.0                          0.0   \n",
       "...                                 ...                          ...   \n",
       "2020-12-27                          0.0                          0.0   \n",
       "2020-12-28                          0.0                          0.0   \n",
       "2020-12-29                          0.0                          0.0   \n",
       "2020-12-30                          0.0                          0.0   \n",
       "2020-12-31                          0.0                          0.0   \n",
       "\n",
       "            value__has_duplicate_14  value__sum_values_14  \\\n",
       "2020-07-21                      0.0            258.571429   \n",
       "2020-07-22                      0.0            276.571429   \n",
       "2020-07-23                      0.0            295.571429   \n",
       "2020-07-24                      0.0            314.714286   \n",
       "2020-07-25                      0.0            331.142857   \n",
       "...                             ...                   ...   \n",
       "2020-12-27                      0.0           8625.142857   \n",
       "2020-12-28                      0.0           8450.142857   \n",
       "2020-12-29                      0.0           8246.571429   \n",
       "2020-12-30                      0.0           8040.857143   \n",
       "2020-12-31                      0.0           7827.571429   \n",
       "\n",
       "            value__abs_energy_14  value__mean_abs_change_14  \\\n",
       "2020-07-21          5.071551e+03                   1.219780   \n",
       "2020-07-22          5.776122e+03                   1.318681   \n",
       "2020-07-23          6.571408e+03                   1.373626   \n",
       "2020-07-24          7.419163e+03                   1.274725   \n",
       "2020-07-25          8.186612e+03                   1.175824   \n",
       "...                          ...                        ...   \n",
       "2020-12-27          5.365544e+06                  15.703297   \n",
       "2020-12-28          5.162219e+06                  15.153846   \n",
       "2020-12-29          4.925001e+06                  15.615385   \n",
       "2020-12-30          4.688429e+06                  16.054945   \n",
       "2020-12-31          4.443486e+06                  15.857143   \n",
       "\n",
       "            value__mean_change_14  value__mean_second_derivative_central_14  \\\n",
       "2020-07-21               1.219780                                  0.035714   \n",
       "2020-07-22               1.318681                                  0.041667   \n",
       "2020-07-23               1.373626                                 -0.029762   \n",
       "2020-07-24               1.274725                                 -0.005952   \n",
       "2020-07-25               1.153846                                 -0.065476   \n",
       "...                           ...                                       ...   \n",
       "2020-12-27             -12.780220                                 -1.886905   \n",
       "2020-12-28             -14.692308                                 -0.095238   \n",
       "2020-12-29             -15.153846                                 -0.648810   \n",
       "2020-12-30             -16.054945                                 -0.065476   \n",
       "2020-12-31             -15.857143                                  0.482143   \n",
       "\n",
       "            value__median_14  ...  value__fourier_entropy__bins_2_7  \\\n",
       "2020-07-21         19.642857  ...                          0.562335   \n",
       "2020-07-22         19.928571  ...                          0.562335   \n",
       "2020-07-23         20.214286  ...                          0.562335   \n",
       "2020-07-24         20.500000  ...                          0.562335   \n",
       "2020-07-25         21.714286  ...                          0.562335   \n",
       "...                      ...  ...                               ...   \n",
       "2020-12-27        636.500000  ...                          0.562335   \n",
       "2020-12-28        605.571429  ...                          0.562335   \n",
       "2020-12-29        583.642857  ...                          0.562335   \n",
       "2020-12-30        569.357143  ...                          0.562335   \n",
       "2020-12-31        554.071429  ...                          0.562335   \n",
       "\n",
       "            value__fourier_entropy__bins_3_7  \\\n",
       "2020-07-21                          0.562335   \n",
       "2020-07-22                          0.562335   \n",
       "2020-07-23                          0.562335   \n",
       "2020-07-24                          0.562335   \n",
       "2020-07-25                          0.562335   \n",
       "...                                      ...   \n",
       "2020-12-27                          0.562335   \n",
       "2020-12-28                          0.562335   \n",
       "2020-12-29                          0.562335   \n",
       "2020-12-30                          0.562335   \n",
       "2020-12-31                          1.039721   \n",
       "\n",
       "            value__fourier_entropy__bins_5_7  \\\n",
       "2020-07-21                          0.562335   \n",
       "2020-07-22                          0.562335   \n",
       "2020-07-23                          0.562335   \n",
       "2020-07-24                          0.562335   \n",
       "2020-07-25                          1.039721   \n",
       "...                                      ...   \n",
       "2020-12-27                          0.562335   \n",
       "2020-12-28                          0.562335   \n",
       "2020-12-29                          0.562335   \n",
       "2020-12-30                          1.039721   \n",
       "2020-12-31                          1.039721   \n",
       "\n",
       "            value__fourier_entropy__bins_10_7  \\\n",
       "2020-07-21                           1.039721   \n",
       "2020-07-22                           0.562335   \n",
       "2020-07-23                           1.039721   \n",
       "2020-07-24                           1.039721   \n",
       "2020-07-25                           1.039721   \n",
       "...                                       ...   \n",
       "2020-12-27                           1.039721   \n",
       "2020-12-28                           0.562335   \n",
       "2020-12-29                           1.039721   \n",
       "2020-12-30                           1.039721   \n",
       "2020-12-31                           1.039721   \n",
       "\n",
       "            value__fourier_entropy__bins_100_7  \\\n",
       "2020-07-21                            1.039721   \n",
       "2020-07-22                            1.386294   \n",
       "2020-07-23                            1.386294   \n",
       "2020-07-24                            1.386294   \n",
       "2020-07-25                            1.386294   \n",
       "...                                        ...   \n",
       "2020-12-27                            1.039721   \n",
       "2020-12-28                            1.386294   \n",
       "2020-12-29                            1.386294   \n",
       "2020-12-30                            1.386294   \n",
       "2020-12-31                            1.039721   \n",
       "\n",
       "            value__permutation_entropy__dimension_3__tau_1_7  \\\n",
       "2020-07-21                                         -0.000000   \n",
       "2020-07-22                                         -0.000000   \n",
       "2020-07-23                                         -0.000000   \n",
       "2020-07-24                                         -0.000000   \n",
       "2020-07-25                                          0.500402   \n",
       "...                                                      ...   \n",
       "2020-12-27                                         -0.000000   \n",
       "2020-12-28                                         -0.000000   \n",
       "2020-12-29                                         -0.000000   \n",
       "2020-12-30                                         -0.000000   \n",
       "2020-12-31                                         -0.000000   \n",
       "\n",
       "            value__permutation_entropy__dimension_4__tau_1_7  \\\n",
       "2020-07-21                                         -0.000000   \n",
       "2020-07-22                                         -0.000000   \n",
       "2020-07-23                                         -0.000000   \n",
       "2020-07-24                                         -0.000000   \n",
       "2020-07-25                                          0.562335   \n",
       "...                                                      ...   \n",
       "2020-12-27                                         -0.000000   \n",
       "2020-12-28                                         -0.000000   \n",
       "2020-12-29                                         -0.000000   \n",
       "2020-12-30                                         -0.000000   \n",
       "2020-12-31                                         -0.000000   \n",
       "\n",
       "            value__permutation_entropy__dimension_5__tau_1_7  \\\n",
       "2020-07-21                                         -0.000000   \n",
       "2020-07-22                                         -0.000000   \n",
       "2020-07-23                                         -0.000000   \n",
       "2020-07-24                                         -0.000000   \n",
       "2020-07-25                                          0.636514   \n",
       "...                                                      ...   \n",
       "2020-12-27                                         -0.000000   \n",
       "2020-12-28                                         -0.000000   \n",
       "2020-12-29                                         -0.000000   \n",
       "2020-12-30                                         -0.000000   \n",
       "2020-12-31                                         -0.000000   \n",
       "\n",
       "            value__permutation_entropy__dimension_6__tau_1_7  \\\n",
       "2020-07-21                                         -0.000000   \n",
       "2020-07-22                                         -0.000000   \n",
       "2020-07-23                                         -0.000000   \n",
       "2020-07-24                                         -0.000000   \n",
       "2020-07-25                                          0.693147   \n",
       "...                                                      ...   \n",
       "2020-12-27                                         -0.000000   \n",
       "2020-12-28                                         -0.000000   \n",
       "2020-12-29                                         -0.000000   \n",
       "2020-12-30                                         -0.000000   \n",
       "2020-12-31                                         -0.000000   \n",
       "\n",
       "            value__permutation_entropy__dimension_7__tau_1_7  \n",
       "2020-07-21                                              -0.0  \n",
       "2020-07-22                                              -0.0  \n",
       "2020-07-23                                              -0.0  \n",
       "2020-07-24                                              -0.0  \n",
       "2020-07-25                                              -0.0  \n",
       "...                                                      ...  \n",
       "2020-12-27                                              -0.0  \n",
       "2020-12-28                                              -0.0  \n",
       "2020-12-29                                              -0.0  \n",
       "2020-12-30                                              -0.0  \n",
       "2020-12-31                                              -0.0  \n",
       "\n",
       "[164 rows x 1558 columns]"
      ],
      "text/html": "<div>\n<style scoped>\n    .dataframe tbody tr th:only-of-type {\n        vertical-align: middle;\n    }\n\n    .dataframe tbody tr th {\n        vertical-align: top;\n    }\n\n    .dataframe thead th {\n        text-align: right;\n    }\n</style>\n<table border=\"1\" class=\"dataframe\">\n  <thead>\n    <tr style=\"text-align: right;\">\n      <th></th>\n      <th>value__variance_larger_than_standard_deviation_14</th>\n      <th>value__has_duplicate_max_14</th>\n      <th>value__has_duplicate_min_14</th>\n      <th>value__has_duplicate_14</th>\n      <th>value__sum_values_14</th>\n      <th>value__abs_energy_14</th>\n      <th>value__mean_abs_change_14</th>\n      <th>value__mean_change_14</th>\n      <th>value__mean_second_derivative_central_14</th>\n      <th>value__median_14</th>\n      <th>...</th>\n      <th>value__fourier_entropy__bins_2_7</th>\n      <th>value__fourier_entropy__bins_3_7</th>\n      <th>value__fourier_entropy__bins_5_7</th>\n      <th>value__fourier_entropy__bins_10_7</th>\n      <th>value__fourier_entropy__bins_100_7</th>\n      <th>value__permutation_entropy__dimension_3__tau_1_7</th>\n      <th>value__permutation_entropy__dimension_4__tau_1_7</th>\n      <th>value__permutation_entropy__dimension_5__tau_1_7</th>\n      <th>value__permutation_entropy__dimension_6__tau_1_7</th>\n      <th>value__permutation_entropy__dimension_7__tau_1_7</th>\n    </tr>\n  </thead>\n  <tbody>\n    <tr>\n      <th>2020-07-21</th>\n      <td>1.0</td>\n      <td>0.0</td>\n      <td>0.0</td>\n      <td>0.0</td>\n      <td>258.571429</td>\n      <td>5.071551e+03</td>\n      <td>1.219780</td>\n      <td>1.219780</td>\n      <td>0.035714</td>\n      <td>19.642857</td>\n      <td>...</td>\n      <td>0.562335</td>\n      <td>0.562335</td>\n      <td>0.562335</td>\n      <td>1.039721</td>\n      <td>1.039721</td>\n      <td>-0.000000</td>\n      <td>-0.000000</td>\n      <td>-0.000000</td>\n      <td>-0.000000</td>\n      <td>-0.0</td>\n    </tr>\n    <tr>\n      <th>2020-07-22</th>\n      <td>1.0</td>\n      <td>0.0</td>\n      <td>0.0</td>\n      <td>0.0</td>\n      <td>276.571429</td>\n      <td>5.776122e+03</td>\n      <td>1.318681</td>\n      <td>1.318681</td>\n      <td>0.041667</td>\n      <td>19.928571</td>\n      <td>...</td>\n      <td>0.562335</td>\n      <td>0.562335</td>\n      <td>0.562335</td>\n      <td>0.562335</td>\n      <td>1.386294</td>\n      <td>-0.000000</td>\n      <td>-0.000000</td>\n      <td>-0.000000</td>\n      <td>-0.000000</td>\n      <td>-0.0</td>\n    </tr>\n    <tr>\n      <th>2020-07-23</th>\n      <td>1.0</td>\n      <td>0.0</td>\n      <td>0.0</td>\n      <td>0.0</td>\n      <td>295.571429</td>\n      <td>6.571408e+03</td>\n      <td>1.373626</td>\n      <td>1.373626</td>\n      <td>-0.029762</td>\n      <td>20.214286</td>\n      <td>...</td>\n      <td>0.562335</td>\n      <td>0.562335</td>\n      <td>0.562335</td>\n      <td>1.039721</td>\n      <td>1.386294</td>\n      <td>-0.000000</td>\n      <td>-0.000000</td>\n      <td>-0.000000</td>\n      <td>-0.000000</td>\n      <td>-0.0</td>\n    </tr>\n    <tr>\n      <th>2020-07-24</th>\n      <td>1.0</td>\n      <td>0.0</td>\n      <td>0.0</td>\n      <td>0.0</td>\n      <td>314.714286</td>\n      <td>7.419163e+03</td>\n      <td>1.274725</td>\n      <td>1.274725</td>\n      <td>-0.005952</td>\n      <td>20.500000</td>\n      <td>...</td>\n      <td>0.562335</td>\n      <td>0.562335</td>\n      <td>0.562335</td>\n      <td>1.039721</td>\n      <td>1.386294</td>\n      <td>-0.000000</td>\n      <td>-0.000000</td>\n      <td>-0.000000</td>\n      <td>-0.000000</td>\n      <td>-0.0</td>\n    </tr>\n    <tr>\n      <th>2020-07-25</th>\n      <td>1.0</td>\n      <td>0.0</td>\n      <td>0.0</td>\n      <td>0.0</td>\n      <td>331.142857</td>\n      <td>8.186612e+03</td>\n      <td>1.175824</td>\n      <td>1.153846</td>\n      <td>-0.065476</td>\n      <td>21.714286</td>\n      <td>...</td>\n      <td>0.562335</td>\n      <td>0.562335</td>\n      <td>1.039721</td>\n      <td>1.039721</td>\n      <td>1.386294</td>\n      <td>0.500402</td>\n      <td>0.562335</td>\n      <td>0.636514</td>\n      <td>0.693147</td>\n      <td>-0.0</td>\n    </tr>\n    <tr>\n      <th>...</th>\n      <td>...</td>\n      <td>...</td>\n      <td>...</td>\n      <td>...</td>\n      <td>...</td>\n      <td>...</td>\n      <td>...</td>\n      <td>...</td>\n      <td>...</td>\n      <td>...</td>\n      <td>...</td>\n      <td>...</td>\n      <td>...</td>\n      <td>...</td>\n      <td>...</td>\n      <td>...</td>\n      <td>...</td>\n      <td>...</td>\n      <td>...</td>\n      <td>...</td>\n      <td>...</td>\n    </tr>\n    <tr>\n      <th>2020-12-27</th>\n      <td>1.0</td>\n      <td>0.0</td>\n      <td>0.0</td>\n      <td>0.0</td>\n      <td>8625.142857</td>\n      <td>5.365544e+06</td>\n      <td>15.703297</td>\n      <td>-12.780220</td>\n      <td>-1.886905</td>\n      <td>636.500000</td>\n      <td>...</td>\n      <td>0.562335</td>\n      <td>0.562335</td>\n      <td>0.562335</td>\n      <td>1.039721</td>\n      <td>1.039721</td>\n      <td>-0.000000</td>\n      <td>-0.000000</td>\n      <td>-0.000000</td>\n      <td>-0.000000</td>\n      <td>-0.0</td>\n    </tr>\n    <tr>\n      <th>2020-12-28</th>\n      <td>1.0</td>\n      <td>0.0</td>\n      <td>0.0</td>\n      <td>0.0</td>\n      <td>8450.142857</td>\n      <td>5.162219e+06</td>\n      <td>15.153846</td>\n      <td>-14.692308</td>\n      <td>-0.095238</td>\n      <td>605.571429</td>\n      <td>...</td>\n      <td>0.562335</td>\n      <td>0.562335</td>\n      <td>0.562335</td>\n      <td>0.562335</td>\n      <td>1.386294</td>\n      <td>-0.000000</td>\n      <td>-0.000000</td>\n      <td>-0.000000</td>\n      <td>-0.000000</td>\n      <td>-0.0</td>\n    </tr>\n    <tr>\n      <th>2020-12-29</th>\n      <td>1.0</td>\n      <td>0.0</td>\n      <td>0.0</td>\n      <td>0.0</td>\n      <td>8246.571429</td>\n      <td>4.925001e+06</td>\n      <td>15.615385</td>\n      <td>-15.153846</td>\n      <td>-0.648810</td>\n      <td>583.642857</td>\n      <td>...</td>\n      <td>0.562335</td>\n      <td>0.562335</td>\n      <td>0.562335</td>\n      <td>1.039721</td>\n      <td>1.386294</td>\n      <td>-0.000000</td>\n      <td>-0.000000</td>\n      <td>-0.000000</td>\n      <td>-0.000000</td>\n      <td>-0.0</td>\n    </tr>\n    <tr>\n      <th>2020-12-30</th>\n      <td>1.0</td>\n      <td>0.0</td>\n      <td>0.0</td>\n      <td>0.0</td>\n      <td>8040.857143</td>\n      <td>4.688429e+06</td>\n      <td>16.054945</td>\n      <td>-16.054945</td>\n      <td>-0.065476</td>\n      <td>569.357143</td>\n      <td>...</td>\n      <td>0.562335</td>\n      <td>0.562335</td>\n      <td>1.039721</td>\n      <td>1.039721</td>\n      <td>1.386294</td>\n      <td>-0.000000</td>\n      <td>-0.000000</td>\n      <td>-0.000000</td>\n      <td>-0.000000</td>\n      <td>-0.0</td>\n    </tr>\n    <tr>\n      <th>2020-12-31</th>\n      <td>1.0</td>\n      <td>0.0</td>\n      <td>0.0</td>\n      <td>0.0</td>\n      <td>7827.571429</td>\n      <td>4.443486e+06</td>\n      <td>15.857143</td>\n      <td>-15.857143</td>\n      <td>0.482143</td>\n      <td>554.071429</td>\n      <td>...</td>\n      <td>0.562335</td>\n      <td>1.039721</td>\n      <td>1.039721</td>\n      <td>1.039721</td>\n      <td>1.039721</td>\n      <td>-0.000000</td>\n      <td>-0.000000</td>\n      <td>-0.000000</td>\n      <td>-0.000000</td>\n      <td>-0.0</td>\n    </tr>\n  </tbody>\n</table>\n<p>164 rows × 1558 columns</p>\n</div>"
     },
     "metadata": {},
     "execution_count": 26
    }
   ],
   "source": [
    "extracted_features_combo"
   ]
  }
 ]
}